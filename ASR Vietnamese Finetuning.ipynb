{
 "cells": [
  {
   "cell_type": "markdown",
   "metadata": {},
   "source": [
    "# Finetuning CTC models on Vietnamese language"
   ]
  },
  {
   "cell_type": "markdown",
   "id": "18204097",
   "metadata": {},
   "source": [
    "In this tutorial, we extend previous tutorials and discuss in detail how to * fine-tune a pre-trained model for the Vietnamese language!\n",
    "\n",
    "This tutorial will dive deeper into essential steps such as: \n",
    "- Data preprocessingPrepare tokenizers\n",
    "- Discuss how to fine-tune models on low-resource languages efficiently\n",
    "- Train a character encoding CTC model\n",
    "- Train a sub-word encoding CTC model\n",
    "\n",
    "For this tutorial (and limited by the compute and storage available on Colab environments), we will attempt to fine-tune an English ASR model onto the Mozilla Common Voice dataset for Vietnamese. \n",
    "\n",
    "This dataset will also allow us to discuss a few details for fine-tuning low-resource languages. The methods discussed here can also be applied to languages with several thousand hours of data!Note: It is advised to review the execution flow diagram for ASR models in order to correctly setup the model prior to fine-tuning - ASR CTC Examples"
   ]
  },
  {
   "cell_type": "code",
   "execution_count": null,
   "id": "15af6cb5",
   "metadata": {
    "vscode": {
     "languageId": "dockerfile"
    }
   },
   "outputs": [],
   "source": [
    "# Install dependencies\n",
    "\n",
    "pip install wget\n",
    "!apt-get install sox libsndfile1 ffmpeg libsox-fmt-mp3\n",
    "!pip install text-unidecode\n",
    "!pip install matplotlib>=3.3.2\n",
    "\n",
    "## Install NeMo\n",
    "# BRANCH = 'main'\n",
    "# !python -m pip install git+https://github.com/NVIDIA/NeMo.git@$BRANCH#egg=nemo_toolkit[all]"
   ]
  },
  {
   "cell_type": "code",
   "execution_count": 1,
   "id": "f14afc18-a100-41d7-82b3-72a256e43732",
   "metadata": {},
   "outputs": [],
   "source": [
    "import os\n",
    "import glob\n",
    "import subprocess\n",
    "import tarfile\n",
    "import wget\n",
    "import copy\n",
    "from omegaconf import OmegaConf, open_dict"
   ]
  },
  {
   "cell_type": "markdown",
   "id": "aae2c6f3",
   "metadata": {},
   "source": [
    "### Download dataset"
   ]
  },
  {
   "cell_type": "markdown",
   "id": "9dc7d82b",
   "metadata": {},
   "source": [
    "We will use the NeMo script in the scripts directory to download and prepare the Mozilla Common Voice (MCV) dataset for Vietnamese.The data preparation script will download the audio files and respective transcripts and then process the audio into mono-channel 16 kHz wave files that can be easily used for training ASR models."
   ]
  },
  {
   "cell_type": "markdown",
   "id": "59fc3015",
   "metadata": {},
   "source": [
    "####  Hugging Face"
   ]
  },
  {
   "cell_type": "markdown",
   "id": "ac8d2ea9",
   "metadata": {},
   "source": [
    "Now, let's download the Mozilla CommonVoice Vietnamese dataset. We will ignore the larger train file and get just the test part for the purposes of this tutorial. For good results, you will need to get the train files and likely other datasets too, bringing the total to over 1k hours.Website steps:\n",
    "- Visit https://huggingface.co/settings/profileVisit \"Access Tokens\" on list of items.\n",
    "- Create new token - provide a name for the token and \"read\" access is sufficient.\n",
    "- PRESERVE THAT TOKEN API KEY. You can copy that key for next step.\n",
    "- Visit the HuggingFace Dataset page for Mozilla Common Voice 17.0\n",
    "- There should be a section that asks you for your approval.\n",
    "- Make sure you are logged in and then read that agreement.If and only if you agree to the text, then accept the terms.\n",
    "\n",
    "Code steps:\n",
    "- Now below, run login()\n",
    "- Paste your preserved HF TOKEN API KEY to the text box.\""
   ]
  },
  {
   "cell_type": "code",
   "execution_count": 2,
   "id": "d81f95cf-2258-4fe0-98e2-72b4807bc555",
   "metadata": {},
   "outputs": [],
   "source": [
    "data_dir = 'datasets/'\n",
    "\n",
    "if not os.path.exists(data_dir):\n",
    "  os.makedirs(data_dir, exist_ok=True)\n",
    "\n",
    "if not os.path.exists(\"scripts\"):\n",
    "  os.makedirs(\"scripts\")"
   ]
  },
  {
   "cell_type": "code",
   "execution_count": 3,
   "id": "725bd6dd-82a8-4031-853e-5cb3a0ce01eb",
   "metadata": {},
   "outputs": [],
   "source": [
    "import nemo\n",
    "import nemo.collections.asr as nemo_asr\n",
    "from nemo.collections.asr.metrics.wer import word_error_rate\n",
    "from nemo.utils import logging, exp_manager"
   ]
  },
  {
   "cell_type": "code",
   "execution_count": null,
   "id": "9dd20f58-11cb-4488-a923-30b10fcd0ac6",
   "metadata": {},
   "outputs": [],
   "source": [
    "from huggingface_hub import login\n",
    "login()"
   ]
  },
  {
   "cell_type": "code",
   "execution_count": 5,
   "id": "482332df-9c2b-47ec-ad54-a8bace2b87bc",
   "metadata": {},
   "outputs": [],
   "source": [
    "VERSION = \"mozilla-foundation/common_voice_17_0\"\n",
    "LANGUAGE = \"vi\""
   ]
  },
  {
   "cell_type": "code",
   "execution_count": 6,
   "id": "9855bccc-1bde-4a9d-abb1-a22971028a53",
   "metadata": {},
   "outputs": [],
   "source": [
    "tokenizer_dir = os.path.join('tokenizers', LANGUAGE)\n",
    "manifest_dir = os.path.join('datasets', LANGUAGE, VERSION, LANGUAGE)"
   ]
  },
  {
   "cell_type": "code",
   "execution_count": 7,
   "id": "0f9cd028-d8a5-4042-a4b3-6b8207392732",
   "metadata": {},
   "outputs": [],
   "source": [
    "!mkdir -p datasets"
   ]
  },
  {
   "cell_type": "markdown",
   "id": "6bae8c36",
   "metadata": {},
   "source": [
    "The following cell will download the Vietnamese MCV corpus, preprocess the audio and prepare manifest files that can be directly used by NeMo models.\n",
    "\n",
    "We will use the convert_hf_dataset_to_nemo.py script located in the nemo/scripts/speech_recognition dir if you cloned NeMo repo"
   ]
  },
  {
   "cell_type": "code",
   "execution_count": 8,
   "id": "6bfcff8b-9a2c-4182-9534-00ac5abcc966",
   "metadata": {},
   "outputs": [],
   "source": [
    "if not os.path.exists(\"convert_hf_dataset_to_nemo.py\"):\n",
    "    !wget https://raw.githubusercontent.com/NVIDIA/NeMo/main/scripts/speech_recognition/convert_hf_dataset_to_nemo.py"
   ]
  },
  {
   "cell_type": "code",
   "execution_count": null,
   "id": "2fb8b4cc-a9a7-4326-a54a-c0e05f24563d",
   "metadata": {},
   "outputs": [],
   "source": [
    "# !python convert_hf_dataset_to_nemo.py \\\n",
    "#   --data_root \"datasets/$LANGUAGE/\" \\\n",
    "#   --manifest_dir=$manifest_dir \\\n",
    "#   --sample_rate=16000 \\\n",
    "#   --n_channels=1 \\\n",
    "#   --version=$VERSION \\\n",
    "#   --language=$LANGUAGE \\\n",
    "#   --files_to_process 'train.tsv' 'dev.tsv' 'test.tsv'\n",
    "\n",
    "!python convert_hf_dataset_to_nemo.py \\\n",
    "    output_dir=datasets/$LANGUAGE \\\n",
    "    path=$VERSION \\\n",
    "    name=$LANGUAGE \\\n",
    "    split=\"train\" \\\n",
    "    ensure_ascii=False \\\n",
    "    use_auth_token=True\n",
    "\n",
    "!python convert_hf_dataset_to_nemo.py \\\n",
    "    output_dir=datasets/$LANGUAGE \\\n",
    "    path=$VERSION \\\n",
    "    name=$LANGUAGE \\\n",
    "    split=\"validation\" \\\n",
    "    ensure_ascii=False \\\n",
    "    use_auth_token=True\n",
    "\n",
    "!python convert_hf_dataset_to_nemo.py \\\n",
    "    output_dir=datasets/$LANGUAGE \\\n",
    "    path=$VERSION \\\n",
    "    name=$LANGUAGE \\\n",
    "    split=\"test\" \\\n",
    "    ensure_ascii=False \\\n",
    "    use_auth_token=True"
   ]
  },
  {
   "cell_type": "markdown",
   "id": "de8b5522",
   "metadata": {},
   "source": [
    "Now that the dataset has been downloaded, let's prepare some paths to easily access the manifest files for the train, dev, and test partitions."
   ]
  },
  {
   "cell_type": "code",
   "execution_count": 10,
   "id": "50d7370b-29f2-4787-8564-7e567aa7c88c",
   "metadata": {},
   "outputs": [],
   "source": [
    "train_manifest = f\"{manifest_dir}/train/train_mozilla-foundation_common_voice_17_0_manifest.json\"\n",
    "dev_manifest = f\"{manifest_dir}/validation/validation_mozilla-foundation_common_voice_17_0_manifest.json\"\n",
    "test_manifest = f\"{manifest_dir}/test/test_mozilla-foundation_common_voice_17_0_manifest.json\""
   ]
  },
  {
   "cell_type": "markdown",
   "id": "b8fe0b52",
   "metadata": {},
   "source": [
    "####  Preparing the dataset for training"
   ]
  },
  {
   "cell_type": "markdown",
   "id": "3ad42569",
   "metadata": {},
   "source": [
    "Before we start training the model on the above unprocessed manifest files, we need to analyze the data. Data pre-processing is perhaps the most essential task, and often requires moderate expertise in the language.\n",
    "\n",
    "While we could technically use the manifests above to train a model, the results would potentially be abysmal. Let's dive a little deeper into what challenges this dataset poses to our models.\n",
    "\n",
    "Note: The pre-processing done on this corpus is specifically done to reduce ambiguity in transcripts, due to the minuscule amount of data we possess. Given enough data, the models discussed here could potentially learn well, even without such heavy pre-processing."
   ]
  },
  {
   "cell_type": "markdown",
   "id": "ae95cc84",
   "metadata": {},
   "source": [
    "#### Manifest utilities"
   ]
  },
  {
   "cell_type": "markdown",
   "id": "9d163498",
   "metadata": {},
   "source": [
    "First, we construct some utilities to read and write manifest files"
   ]
  },
  {
   "cell_type": "code",
   "execution_count": 11,
   "id": "211d1ec1-8b8b-402c-86c7-2917670e2f1c",
   "metadata": {},
   "outputs": [],
   "source": [
    "# Manifest Utils\n",
    "from tqdm.auto import tqdm\n",
    "from nemo.collections.asr.parts.utils.manifest_utils import read_manifest, write_manifest\n",
    "import json\n",
    "\n",
    "\n",
    "def write_processed_manifest(data, original_path):\n",
    "    original_manifest_name = os.path.basename(original_path)\n",
    "    new_manifest_name = original_manifest_name.replace(\".json\", \"_processed.json\")\n",
    "\n",
    "    manifest_dir = os.path.split(original_path)[0]\n",
    "    filepath = os.path.join(manifest_dir, new_manifest_name)\n",
    "    write_manifest(filepath, data)\n",
    "    print(f\"Finished writing manifest: {filepath}\")\n",
    "    return filepath"
   ]
  },
  {
   "cell_type": "code",
   "execution_count": 12,
   "id": "4a60855b-bcf1-46c0-b49f-0bb9150c5ddf",
   "metadata": {},
   "outputs": [],
   "source": [
    "train_manifest_data = read_manifest(train_manifest)\n",
    "dev_manifest_data = read_manifest(dev_manifest)\n",
    "test_manifest_data = read_manifest(test_manifest)"
   ]
  },
  {
   "cell_type": "code",
   "execution_count": 13,
   "id": "f685c991-e580-4fab-8300-8dd6977de584",
   "metadata": {},
   "outputs": [],
   "source": [
    "train_text = [data['text'] for data in train_manifest_data]\n",
    "dev_text = [data['text'] for data in dev_manifest_data]\n",
    "test_text = [data['text'] for data in test_manifest_data]"
   ]
  },
  {
   "cell_type": "markdown",
   "id": "b9c206fd",
   "metadata": {},
   "source": [
    "#### Character set"
   ]
  },
  {
   "cell_type": "markdown",
   "id": "5018431a",
   "metadata": {},
   "source": [
    "Let us calculate the character set - which is the set of unique tokens that exist within the text manifests."
   ]
  },
  {
   "cell_type": "code",
   "execution_count": 14,
   "id": "210cc210-921a-44df-8f54-19f8114b1c67",
   "metadata": {},
   "outputs": [],
   "source": [
    " from collections import defaultdict\n",
    "\n",
    "def get_charset(manifest_data):\n",
    "    charset = defaultdict(int)\n",
    "    for row in tqdm(manifest_data, desc=\"Computing character set\"):\n",
    "        text = row['text']\n",
    "        for character in text:\n",
    "            charset[character] += 1\n",
    "    return charset"
   ]
  },
  {
   "cell_type": "code",
   "execution_count": null,
   "id": "0952bb44-d087-4bb7-8185-96e806a0fa3f",
   "metadata": {},
   "outputs": [],
   "source": [
    "train_charset = get_charset(train_manifest_data)\n",
    "dev_charset = get_charset(dev_manifest_data)\n",
    "test_charset = get_charset(test_manifest_data)"
   ]
  },
  {
   "cell_type": "code",
   "execution_count": 16,
   "id": "8115369d-9f62-4414-8d82-0f2450e8946c",
   "metadata": {},
   "outputs": [],
   "source": [
    "train_dev_set = set.union(set(train_charset.keys()), set(dev_charset.keys()))\n",
    "test_set = set(test_charset.keys())"
   ]
  },
  {
   "cell_type": "code",
   "execution_count": 17,
   "id": "1d6a1f80-158f-459d-ac67-3b43789db1a7",
   "metadata": {},
   "outputs": [
    {
     "name": "stdout",
     "output_type": "stream",
     "text": [
      "Number of tokens in train+dev set : 135\n",
      "Number of tokens in test set : 133\n"
     ]
    }
   ],
   "source": [
    "print(f\"Number of tokens in train+dev set : {len(train_dev_set)}\")\n",
    "print(f\"Number of tokens in test set : {len(test_set)}\")"
   ]
  },
  {
   "cell_type": "markdown",
   "id": "82216f78",
   "metadata": {},
   "source": [
    "####  Vietnamese Vocabulary"
   ]
  },
  {
   "cell_type": "markdown",
   "id": "cb1d89b4",
   "metadata": {},
   "source": [
    "Even a tiny corpus, with less than 2 hours of speech, comprises nearly 135 unique tokens! Here we would need additional preprocessing suited to Vietnamese characters."
   ]
  },
  {
   "cell_type": "code",
   "execution_count": 18,
   "id": "aeefb9a7-7c9c-4f6c-9760-039a51ec342a",
   "metadata": {},
   "outputs": [
    {
     "name": "stdout",
     "output_type": "stream",
     "text": [
      "Number of OOV tokens in test set : 8\n",
      "\n",
      "{'W', 'f', 'É', 'j', 'Ấ', 'Z', 'Ầ', 'I'}\n"
     ]
    }
   ],
   "source": [
    "# OOV tokens in test set\n",
    "train_test_common = set.intersection(train_dev_set, test_set)\n",
    "test_oov = test_set - train_test_common\n",
    "print(f\"Number of OOV tokens in test set : {len(test_oov)}\")\n",
    "print()\n",
    "print(test_oov)"
   ]
  },
  {
   "cell_type": "markdown",
   "id": "fb2abc15",
   "metadata": {},
   "source": [
    "So there exists a number of Vietnamese characters that exist only in the test set, but not in the train or dev set. In order to simplify the learning task (and because there is simply too little data), we will remove the unique test set characters.\n",
    "\n",
    "Note: Removing them inevitably means some text cannot be correctly transcribed. In the case of Vietnamese, this means certain transcriptions will mean entirely different when compared to the spoken audio."
   ]
  },
  {
   "cell_type": "markdown",
   "id": "1922e2d1",
   "metadata": {},
   "source": [
    "####  Check the distribution"
   ]
  },
  {
   "cell_type": "markdown",
   "id": "ccee77f2",
   "metadata": {},
   "source": [
    "Next, just as an exercise, we calculate the occurrence ratio of special characters in the train and dev corpus.Here, count_keys represents a dictionary of lists - such that each key is the number of times a token occurred in the entire training corpus, and the value is a list of the special characters that occurred that many times."
   ]
  },
  {
   "cell_type": "code",
   "execution_count": 19,
   "id": "e31fd9ad-f0d0-4db9-8257-07859b7d740b",
   "metadata": {},
   "outputs": [],
   "source": [
    "# Populate dictionary mapping count: list[tokens]\n",
    "train_counts = defaultdict(list)\n",
    "for token, count in train_charset.items():\n",
    "    train_counts[count].append(token)\n",
    "for token, count in dev_charset.items():\n",
    "    train_counts[count].append(token)\n",
    "\n",
    "# Compute sorter order of the count keys\n",
    "count_keys = sorted(list(train_counts.keys()))"
   ]
  },
  {
   "cell_type": "markdown",
   "id": "c019bc50",
   "metadata": {},
   "source": [
    "Build a paired list that computes the number of unique special characters which occurs less than some MAX_COUNT number of times."
   ]
  },
  {
   "cell_type": "code",
   "execution_count": 20,
   "id": "7a47bf23-b6a9-41f8-83b7-a77d11a59809",
   "metadata": {},
   "outputs": [],
   "source": [
    "MAX_COUNT = 32\n",
    "\n",
    "TOKEN_COUNT_X = []\n",
    "NUM_TOKENS_Y = []\n",
    "for count in range(1, MAX_COUNT + 1):\n",
    "    if count in train_counts:\n",
    "        num_tokens = len(train_counts[count])\n",
    "\n",
    "        TOKEN_COUNT_X.append(count)\n",
    "        NUM_TOKENS_Y.append(num_tokens)"
   ]
  },
  {
   "cell_type": "markdown",
   "id": "dbb44d7c",
   "metadata": {},
   "source": [
    "Let's plot the distribution in order of rarity of occurrence. This means that for smaller value in x axis (# of occurrences), the yaxis value represents the number of unique characters that occurred exactlyx` number of times in the entire corpus."
   ]
  },
  {
   "cell_type": "code",
   "execution_count": 21,
   "id": "34264014-7410-4797-b232-5819ad034cef",
   "metadata": {},
   "outputs": [
    {
     "data": {
      "image/png": "[encoded data removed]",
      "text/plain": [
       "<Figure size 640x480 with 1 Axes>"
      ]
     },
     "metadata": {},
     "output_type": "display_data"
    }
   ],
   "source": [
    "import matplotlib.pyplot as plt\n",
    "\n",
    "plt.bar(x=TOKEN_COUNT_X, height=NUM_TOKENS_Y)\n",
    "plt.title(\"Occurrences of unique tokens in train+dev set\")\n",
    "plt.xlabel(\"# of occurrences\")\n",
    "plt.ylabel(\"# of tokens\")\n",
    "plt.xlim(0, MAX_COUNT);"
   ]
  },
  {
   "cell_type": "markdown",
   "id": "352867ae",
   "metadata": {},
   "source": [
    " As we can see above - nearly 18 tokens occur precisely once in the entire training corpus! Let's check a cumulative count of how many unique kanji exist with less than five occurrences throughout the corpus."
   ]
  },
  {
   "cell_type": "code",
   "execution_count": 22,
   "id": "caf0d022-44f7-4a24-b160-c12ff32e94b6",
   "metadata": {},
   "outputs": [
    {
     "name": "stdout",
     "output_type": "stream",
     "text": [
      "Number of tokens with <= 5 occurrences : 32\n"
     ]
    }
   ],
   "source": [
    "UNCOMMON_TOKENS_COUNT = 5\n",
    "\n",
    "chars_with_infrequent_occurrence = set()\n",
    "for count in range(1, UNCOMMON_TOKENS_COUNT + 1):\n",
    "    if count in train_counts:\n",
    "        token_list = train_counts[count]\n",
    "        chars_with_infrequent_occurrence.update(set(token_list))\n",
    "\n",
    "print(f\"Number of tokens with <= {UNCOMMON_TOKENS_COUNT} occurrences : {len(chars_with_infrequent_occurrence)}\")"
   ]
  },
  {
   "cell_type": "markdown",
   "id": "5175af66",
   "metadata": {},
   "source": [
    "#### Process special character tokens"
   ]
  },
  {
   "cell_type": "markdown",
   "id": "66d99bc0",
   "metadata": {},
   "source": [
    "There are several tokens which do not accurately correspond to an acoustic feature. A few examples are various commas and the period. Think of it this way, unless every sentence ends with a period (and this is uncommon - since training datasets are often comprised of small snippets of audio out of a longer conversations), then a model has insufficient context to determine when to end a sentence from just the snippet it was provided.\n",
    "\n",
    "As such, we remove several special tokens such as commas, question marks, periods, quotation marks, and a few special tokens sometimes used in Vietnamese text."
   ]
  },
  {
   "cell_type": "code",
   "execution_count": 23,
   "id": "d14903e0-1c34-48fb-a7c4-ff1abe8ce005",
   "metadata": {},
   "outputs": [],
   "source": [
    "import re\n",
    "import unicodedata\n",
    "\n",
    "# Vietnamese-specific characters to ignore\n",
    "chars_to_ignore_regex = r'[,\\?\\.\\!\\-;:\"\"\"\"%\\'…\\{\\}\\[\\]\\(\\)\\<\\>\\~\\®]'\n",
    "\n",
    "def remove_special_characters(data):\n",
    "    data[\"text\"] = re.sub(chars_to_ignore_regex, '', data[\"text\"]).lower().strip()\n",
    "    return data\n",
    "\n",
    "def normalize_vietnamese_characters(data):\n",
    "    text = data[\"text\"]\n",
    "    text = unicodedata.normalize('NFC', text)  # Normalize to composed form\n",
    "    data[\"text\"] = text\n",
    "    return data\n",
    "\n",
    "def preprocess_vietnamese_text(data):\n",
    "    data = remove_special_characters(data)\n",
    "    data = normalize_vietnamese_characters(data)\n",
    "    return data"
   ]
  },
  {
   "cell_type": "markdown",
   "id": "25aca7e0",
   "metadata": {},
   "source": [
    "####  Process dataset"
   ]
  },
  {
   "cell_type": "markdown",
   "id": "80a829fc",
   "metadata": {},
   "source": [
    "Now that we have the functions necessary to clean up the transcripts, let's create a small pipeline to clean up the manifest and write new manifests for us. For simplicity's sake (as the dataset is so small), a simple sequential pipeline will be sufficient for our use case."
   ]
  },
  {
   "cell_type": "code",
   "execution_count": 24,
   "id": "931ce89e-0fd8-4fe3-9e0a-1ed311508d03",
   "metadata": {},
   "outputs": [],
   "source": [
    "# Processing pipeline\n",
    "def apply_preprocessors(manifest, preprocessors):\n",
    "    for processor in preprocessors:\n",
    "        for idx in tqdm(range(len(manifest)), desc=f\"Applying {processor.__name__}\"):\n",
    "            manifest[idx] = processor(manifest[idx])\n",
    "\n",
    "    print(\"Finished processing manifest!\")\n",
    "    return manifest"
   ]
  },
  {
   "cell_type": "code",
   "execution_count": 25,
   "id": "c7e3c439-6d81-4040-b02a-41a6c301b6b0",
   "metadata": {},
   "outputs": [],
   "source": [
    "# List of pre-processing functions for Vietnamese\n",
    "PREPROCESSORS = [\n",
    "    remove_special_characters,\n",
    "    normalize_vietnamese_characters\n",
    "]"
   ]
  },
  {
   "cell_type": "code",
   "execution_count": null,
   "id": "fac187de-ebb2-44f0-8c97-036235707dea",
   "metadata": {},
   "outputs": [],
   "source": [
    "# Load manifests\n",
    "train_data = read_manifest(train_manifest)\n",
    "dev_data = read_manifest(dev_manifest)\n",
    "test_data = read_manifest(test_manifest)\n",
    "\n",
    "# Apply preprocessing\n",
    "train_data_processed = apply_preprocessors(train_data, PREPROCESSORS)\n",
    "dev_data_processed = apply_preprocessors(dev_data, PREPROCESSORS)\n",
    "test_data_processed = apply_preprocessors(test_data, PREPROCESSORS)\n",
    "\n",
    "# Write new manifests\n",
    "train_manifest_cleaned = write_processed_manifest(train_data_processed, train_manifest)\n",
    "dev_manifest_cleaned = write_processed_manifest(dev_data_processed, dev_manifest)\n",
    "test_manifest_cleaned = write_processed_manifest(test_data_processed, test_manifest)"
   ]
  },
  {
   "cell_type": "markdown",
   "id": "ffc8c12c",
   "metadata": {},
   "source": [
    "#### Final character set"
   ]
  },
  {
   "cell_type": "markdown",
   "id": "40af7b42",
   "metadata": {},
   "source": [
    "After pre-processing the dataset, let's recover the final character set used to train the models."
   ]
  },
  {
   "cell_type": "code",
   "execution_count": null,
   "id": "15e06d53-7de8-4acc-a8c8-78f8172e7791",
   "metadata": {},
   "outputs": [],
   "source": [
    "train_manifest_data = read_manifest(train_manifest_cleaned)\n",
    "train_charset = get_charset(train_manifest_data)\n",
    "\n",
    "dev_manifest_data = read_manifest(dev_manifest_cleaned)\n",
    "dev_charset = get_charset(dev_manifest_data)\n",
    "\n",
    "train_dev_set = set.union(set(train_charset.keys()), set(dev_charset.keys()))"
   ]
  },
  {
   "cell_type": "code",
   "execution_count": null,
   "id": "b50621e0-d561-4a76-8be9-1bf2900629b3",
   "metadata": {},
   "outputs": [],
   "source": [
    "char_model = nemo_asr.models.ASRModel.from_pretrained(\"stt_en_quartznet15x5\", map_location='cuda')"
   ]
  },
  {
   "cell_type": "markdown",
   "id": "f4b33e8c",
   "metadata": {},
   "source": [
    "#### Character Encoding CTC Model"
   ]
  },
  {
   "cell_type": "markdown",
   "id": "34160dad",
   "metadata": {},
   "source": [
    "Now that we have a processed dataset, we can begin training an ASR model on this dataset. The following section will detail how we prepare a CTC model which utilizes a Character Encoding scheme.\n",
    "\n",
    "This section will utilize a pre-trained QuartzNet 15x5, which has been trained on roughly 7,000 hours of English speech base model. We will modify the decoder layer (thereby changing the model's vocabulary) and then train for a small number of epochs."
   ]
  },
  {
   "cell_type": "code",
   "execution_count": null,
   "id": "f8c1adfc-8a36-413b-b400-9b71783f9ac5",
   "metadata": {},
   "outputs": [],
   "source": [
    "char_model.change_vocabulary(new_vocabulary=list(train_dev_set))"
   ]
  },
  {
   "cell_type": "markdown",
   "id": "15d7ceae",
   "metadata": {},
   "source": [
    "#### Training on low resource languages"
   ]
  },
  {
   "cell_type": "markdown",
   "id": "6d08a5a3",
   "metadata": {},
   "source": [
    "If the amount of training data or available computational resources are limited, it might be useful to freeze the encoder module of the network and train just the final decoder layer. This is also useful in cases where GPU memory is insufficient to train a large network, or cases where the model might overfit due to its size.\n",
    "\n",
    "In cases where sufficient data is available - and \"sufficient\" is dependent on the complexity of the language - then it is advised to train the encoder as well to get the best possible transcript. When we say sufficient is relative to the language, we have noticed that some languages can obtain reasonable scores with a few hundred hours of transcribed speech, whereas some languages require several thousand hours.\n",
    "\n",
    "It is also important to note that if the language remains the same, and some specific domain of text must be adapted for ASR, it is often easier to add a domain-specific language model to guide the generic ASR model than to attempt fine-tuning a full ASR model on limited data from that specific domain."
   ]
  },
  {
   "cell_type": "code",
   "execution_count": 35,
   "id": "831a0284-48f6-46e2-9312-4a45f4d92d6e",
   "metadata": {},
   "outputs": [],
   "source": [
    "#@title Freeze Encoder { display-mode: \"form\" }\n",
    "freeze_encoder = True #@param [\"False\", \"True\"] {type:\"raw\"}\n",
    "freeze_encoder = bool(freeze_encoder)"
   ]
  },
  {
   "cell_type": "markdown",
   "id": "705691b8",
   "metadata": {},
   "source": [
    "#### Frozen Encoder - Unfrozen Batch Normalization"
   ]
  },
  {
   "cell_type": "markdown",
   "id": "1e2bd597",
   "metadata": {},
   "source": [
    "Freezing the encoder is generally helpful to limit computation and enable faster training; however, in many experiments, freezing the encoder in its entirety will often prevent a model from learning on low-resource languages.\n",
    "\n",
    "In order to enable a frozen encoder model to learn on a new language stably, we, therefore, unfreeze the batch normalization layers in the encoder. \n",
    "\n",
    "On top of this, if the model contains \"SqueezeExcite\" sub-modules, we unfreeze them as well.In doing so, we notice that such models train properly and obtain respectable scores even on severely resource-limited languages.\n",
    "\n",
    "Note: This phenomenon disappears when sufficient data is available (in such a case, the entire encoder can be trained as well). Therefore it is advised to unfreeze the encoder when sufficient data is available."
   ]
  },
  {
   "cell_type": "code",
   "execution_count": 36,
   "id": "a2c425be-7a54-4df1-ba48-be0183cca34f",
   "metadata": {},
   "outputs": [],
   "source": [
    "import torch\n",
    "import torch.nn as nn\n",
    "\n",
    "def enable_bn_se(m):\n",
    "    if type(m) == nn.BatchNorm1d:\n",
    "        m.train()\n",
    "        for param in m.parameters():\n",
    "            param.requires_grad_(True)\n",
    "\n",
    "    if 'SqueezeExcite' in type(m).__name__:\n",
    "        m.train()\n",
    "        for param in m.parameters():\n",
    "            param.requires_grad_(True)"
   ]
  },
  {
   "cell_type": "code",
   "execution_count": 37,
   "id": "f6e459d8-a9cf-43bd-acaf-621954dc8314",
   "metadata": {},
   "outputs": [
    {
     "name": "stdout",
     "output_type": "stream",
     "text": [
      "[NeMo I 2024-10-07 08:41:42 705968631:4] Model encoder has been frozen, and batch normalization has been unfrozen\n"
     ]
    }
   ],
   "source": [
    "if freeze_encoder:\n",
    "  char_model.encoder.freeze()\n",
    "  char_model.encoder.apply(enable_bn_se)\n",
    "  logging.info(\"Model encoder has been frozen, and batch normalization has been unfrozen\")\n",
    "else:\n",
    "  char_model.encoder.unfreeze()\n",
    "  logging.info(\"Model encoder has been un-frozen\")"
   ]
  },
  {
   "cell_type": "markdown",
   "id": "a80c70ad",
   "metadata": {},
   "source": [
    "#### Update config"
   ]
  },
  {
   "cell_type": "markdown",
   "id": "748baccd",
   "metadata": {},
   "source": [
    "Each NeMo model has a config embedded in it, which can be accessed via model.cfg. In general, this is the config that was used to construct the model.For pre-trained models, this config generally represents the config used to construct the model when it was trained. A nice benefit to this embedded config is that we can repurpose it to set up new data loaders, optimizers, schedulers, and even data augmentation!"
   ]
  },
  {
   "cell_type": "markdown",
   "id": "ef9997d9",
   "metadata": {},
   "source": [
    "##### Updating the character set of the model"
   ]
  },
  {
   "cell_type": "markdown",
   "id": "c075a27b",
   "metadata": {},
   "source": [
    "The most important step for preparing character encoding models for fine-tuning is to update the model's character set. Remember - the model was trained on some language with some specific dataset that had a certain character set. Character sets would rarely remain the same between training and fine-tuning (though it is still possible).\n",
    "\n",
    "Each character encoding model has a model.cfg.labels attribute, which can be overridden via OmegaConf."
   ]
  },
  {
   "cell_type": "code",
   "execution_count": 38,
   "id": "e0ef7887-6af0-4de0-acec-1b5f1f417172",
   "metadata": {},
   "outputs": [],
   "source": [
    "char_model.cfg.labels = list(train_dev_set)"
   ]
  },
  {
   "cell_type": "markdown",
   "id": "ac84c934",
   "metadata": {},
   "source": [
    " Now, we create a working copy of the model config and update it as needed."
   ]
  },
  {
   "cell_type": "code",
   "execution_count": 39,
   "id": "cac221ad-a527-4f51-8383-08f45b0c8e55",
   "metadata": {},
   "outputs": [],
   "source": [
    "cfg = copy.deepcopy(char_model.cfg)"
   ]
  },
  {
   "cell_type": "markdown",
   "id": "97390f61",
   "metadata": {},
   "source": [
    "#### Setting up data loaders"
   ]
  },
  {
   "cell_type": "markdown",
   "id": "28c2f535",
   "metadata": {},
   "source": [
    "Now that the model's character set has been updated let's prepare the model to utilize the new character set even in the data loaders. Note that this is crucial so that the data produced during training/validation matches the new character set, and tokens are encoded/decoded correctly.\n",
    "\n",
    "Note: An important config parameter is normalize_transcripts and parser. There are some parsers that are used for specific languages for character based models - currently only en is supported. These parsers will preprocess the text with the given languages parser. However, for other languages, it is advised to explicitly set normalize_transcripts = False - which will prevent the parser from processing text."
   ]
  },
  {
   "cell_type": "code",
   "execution_count": 40,
   "id": "08401e7b-41dd-4837-8609-4f599c391fc5",
   "metadata": {},
   "outputs": [],
   "source": [
    "# Setup train, validation, test configs\n",
    "with open_dict(cfg):\n",
    "  # Train dataset  (Concatenate train manifest cleaned and dev manifest cleaned)\n",
    "  cfg.train_ds.manifest_filepath = f\"{train_manifest_cleaned},{dev_manifest_cleaned}\"\n",
    "  cfg.train_ds.labels = list(train_dev_set)\n",
    "  cfg.train_ds.normalize_transcripts = False\n",
    "  cfg.train_ds.batch_size = 32\n",
    "  cfg.train_ds.num_workers = 8\n",
    "  cfg.train_ds.pin_memory = True\n",
    "  cfg.train_ds.trim_silence = True\n",
    "\n",
    "  # Validation dataset  (Use test dataset as validation, since we train using train + dev)\n",
    "  cfg.validation_ds.manifest_filepath = test_manifest_cleaned\n",
    "  cfg.validation_ds.labels = list(train_dev_set)\n",
    "  cfg.validation_ds.normalize_transcripts = False\n",
    "  cfg.validation_ds.batch_size = 8\n",
    "  cfg.validation_ds.num_workers = 8\n",
    "  cfg.validation_ds.pin_memory = True\n",
    "  cfg.validation_ds.trim_silence = True"
   ]
  },
  {
   "cell_type": "code",
   "execution_count": 41,
   "id": "286c17f1-3f3e-4eca-996b-ae2ad4e781a2",
   "metadata": {},
   "outputs": [
    {
     "name": "stdout",
     "output_type": "stream",
     "text": [
      "[NeMo I 2024-10-07 08:42:09 collections:196] Dataset loaded with 2939 files totalling 3.52 hours\n",
      "[NeMo I 2024-10-07 08:42:09 collections:197] 0 files were filtered totalling 0.00 hours\n",
      "[NeMo I 2024-10-07 08:42:09 collections:196] Dataset loaded with 1274 files totalling 1.35 hours\n",
      "[NeMo I 2024-10-07 08:42:09 collections:197] 0 files were filtered totalling 0.00 hours\n"
     ]
    }
   ],
   "source": [
    "# setup data loaders with new configs\n",
    "char_model.setup_training_data(cfg.train_ds)\n",
    "char_model.setup_multiple_validation_data(cfg.validation_ds)"
   ]
  },
  {
   "cell_type": "markdown",
   "id": "35e47c01",
   "metadata": {},
   "source": [
    "####  Setting up optimizer and scheduler"
   ]
  },
  {
   "cell_type": "markdown",
   "id": "40847cc5",
   "metadata": {},
   "source": [
    "When fine-tuning character models, it is generally advised to use a lower learning rate and reduced warmup. A reduced learning rate helps preserve the pre-trained weights of the encoder. Since the fine-tuning dataset is generally smaller than the original training dataset, the warmup steps would be far too much for the smaller fine-tuning dataset.\n",
    "\n",
    "\n",
    "Note: When freezing the encoder, it is possible to use the original learning rate as the model was trained on. The original learning rate can be used because the encoder is frozen, so the learning rate is used only to optimize the decoder. However, a very high learning rate would still destabilize training, even with a frozen encoder."
   ]
  },
  {
   "cell_type": "code",
   "execution_count": 42,
   "id": "0eaaa3ba-7f8d-4967-b11e-777e73dc2804",
   "metadata": {},
   "outputs": [
    {
     "name": "stdout",
     "output_type": "stream",
     "text": [
      "name: novograd\n",
      "lr: 0.01\n",
      "betas:\n",
      "- 0.8\n",
      "- 0.5\n",
      "weight_decay: 0.001\n",
      "sched:\n",
      "  name: CosineAnnealing\n",
      "  warmup_steps: null\n",
      "  warmup_ratio: null\n",
      "  min_lr: 0.0\n",
      "  last_epoch: -1\n",
      "\n"
     ]
    }
   ],
   "source": [
    "# Original optimizer + scheduler\n",
    "print(OmegaConf.to_yaml(char_model.cfg.optim))"
   ]
  },
  {
   "cell_type": "code",
   "execution_count": 43,
   "id": "95a45a64-8009-4c76-be66-e66204b36184",
   "metadata": {},
   "outputs": [],
   "source": [
    "with open_dict(char_model.cfg.optim):\n",
    "  char_model.cfg.optim.lr = 0.01\n",
    "  char_model.cfg.optim.betas = [0.95, 0.5]  # from paper\n",
    "  char_model.cfg.optim.weight_decay = 0.001  # Original weight decay\n",
    "  char_model.cfg.optim.sched.warmup_steps = None  # Remove default number of steps of warmup\n",
    "  char_model.cfg.optim.sched.warmup_ratio = 0.05  # 5 % warmup\n",
    "  char_model.cfg.optim.sched.min_lr = 1e-5"
   ]
  },
  {
   "cell_type": "markdown",
   "id": "57ddfa55",
   "metadata": {},
   "source": [
    "#### Setting up augmentation"
   ]
  },
  {
   "cell_type": "markdown",
   "id": "f5b26d88",
   "metadata": {},
   "source": [
    "Remember that the model was trained on several thousands of hours of data, so the regularization provided to it might not suit the current dataset. We can easily change it as we see fit.\n",
    "\n",
    "You might notice that we utilize char_model.from_config_dict() to create a new SpectrogramAugmentation object and assign it directly in place of the previous augmentation. This is generally the syntax to be followed whenever you notice a _target_ tag in the config of a model's inner config.\n",
    "\n",
    "Note: For low resource languages, it might be better to increase augmentation via SpecAugment to reduce overfitting. However, this might, in turn, make it too hard for the model to train in a short number of epochs."
   ]
  },
  {
   "cell_type": "code",
   "execution_count": 44,
   "id": "00d5802b-1eaf-421b-a280-b103a9dc67d3",
   "metadata": {},
   "outputs": [
    {
     "name": "stdout",
     "output_type": "stream",
     "text": [
      "_target_: nemo.collections.asr.modules.SpectrogramAugmentation\n",
      "rect_freq: 50\n",
      "rect_masks: 5\n",
      "rect_time: 120\n",
      "\n"
     ]
    }
   ],
   "source": [
    "print(OmegaConf.to_yaml(char_model.cfg.spec_augment))"
   ]
  },
  {
   "cell_type": "markdown",
   "id": "1bcadb42",
   "metadata": {},
   "source": [
    "#### Setup Metrics"
   ]
  },
  {
   "cell_type": "markdown",
   "id": "bc722be2",
   "metadata": {},
   "source": [
    "Vietnamese uses the Latin alphabet (Quốc Ngữ) with additional diacritics. Unlike Japanese or Mandarin, Vietnamese does use spaces to separate words. Words are typically separated by spaces, similar to English. This means that Word Error Rate (WER) can be a meaningful metric for Vietnamese ASR systems. Given these characteristics we will use:\n",
    "\n",
    "- (WER): Since Vietnamese uses spaces to separate words, WER can be an appropriate and meaningful metric. It will give you a good sense of how well your model is recognizing whole words.\n",
    "- And we keep CER as a supplementary metric"
   ]
  },
  {
   "cell_type": "code",
   "execution_count": 45,
   "id": "d7b43915-9d13-4213-9ee8-8c10d0cfa614",
   "metadata": {},
   "outputs": [],
   "source": [
    " #@title Metric\n",
    "use_wer = True #@param [\"False\", \"True\"] {type:\"raw\"}\n",
    "use_cer = True #@param [\"False\", \"True\"] {type:\"raw\"}\n",
    "log_prediction = True #@param [\"False\", \"True\"] {type:\"raw\"}"
   ]
  },
  {
   "cell_type": "code",
   "execution_count": 46,
   "id": "070e6835-ced6-48a2-8c3e-051e8fe1ed45",
   "metadata": {},
   "outputs": [],
   "source": [
    "char_model.use_wer = use_wer\n",
    "char_model.wer.use_cer = use_cer\n",
    "char_model.wer.log_prediction = log_prediction"
   ]
  },
  {
   "cell_type": "markdown",
   "id": "b3c422b7",
   "metadata": {},
   "source": [
    "#### Setup Trainer and Experiment Manager"
   ]
  },
  {
   "cell_type": "markdown",
   "id": "f2e492f9",
   "metadata": {},
   "source": [
    "And that's it! Now we can train the model by simply using the Pytorch Lightning Trainer and NeMo Experiment Manager as always.For demonstration purposes, the number of epochs is kept intentionally low. Reasonable results can be obtained in around 100 epochs (approximately 20 minutes on an A100 GPUs)."
   ]
  },
  {
   "cell_type": "code",
   "execution_count": 47,
   "id": "659b2fb9-a84a-47ad-ad12-cfac27bcde1b",
   "metadata": {},
   "outputs": [
    {
     "name": "stderr",
     "output_type": "stream",
     "text": [
      "GPU available: True (cuda), used: True\n",
      "TPU available: False, using: 0 TPU cores\n",
      "HPU available: False, using: 0 HPUs\n"
     ]
    }
   ],
   "source": [
    "import torch\n",
    "import pytorch_lightning as ptl\n",
    "\n",
    "if torch.cuda.is_available():\n",
    "  accelerator = 'gpu'\n",
    "else:\n",
    "  accelerator = 'cpu'\n",
    "\n",
    "EPOCHS = 100  # Higher epochs would provide better results, but would take hours to train\n",
    "\n",
    "trainer = ptl.Trainer(devices=1,\n",
    "                      accelerator=accelerator,\n",
    "                      max_epochs=EPOCHS,\n",
    "                      accumulate_grad_batches=1,\n",
    "                      enable_checkpointing=False,\n",
    "                      logger=False,\n",
    "                      log_every_n_steps=5,\n",
    "                      check_val_every_n_epoch=10)\n",
    "\n",
    "# Setup model with the trainer\n",
    "char_model.set_trainer(trainer)\n",
    "\n",
    "# Finally, update the model's internal config\n",
    "char_model.cfg = char_model._cfg"
   ]
  },
  {
   "cell_type": "code",
   "execution_count": 48,
   "id": "19422f68-8d9f-4b67-8b9c-7bdf3067409b",
   "metadata": {},
   "outputs": [
    {
     "name": "stdout",
     "output_type": "stream",
     "text": [
      "[NeMo I 2024-10-07 08:44:32 exp_manager:396] Experiments will be logged at experiments/lang-vi/ASR-Char-Model-Language-vi/2024-10-07_08-44-32\n",
      "[NeMo I 2024-10-07 08:44:32 exp_manager:856] TensorboardLogger has been set up\n"
     ]
    }
   ],
   "source": [
    "# Environment variable generally used for multi-node multi-gpu training.\n",
    "# In notebook environments, this flag is unnecessary and can cause logs of multiple training runs to overwrite each other.\n",
    "os.environ.pop('NEMO_EXPM_VERSION', None)\n",
    "\n",
    "config = exp_manager.ExpManagerConfig(\n",
    "    exp_dir=f'experiments/lang-{LANGUAGE}/',\n",
    "    name=f\"ASR-Char-Model-Language-{LANGUAGE}\",\n",
    "    checkpoint_callback_params=exp_manager.CallbackParams(\n",
    "        monitor=\"val_wer\",\n",
    "        mode=\"min\",\n",
    "        always_save_nemo=True,\n",
    "        save_best_model=True,\n",
    "    ),\n",
    ")\n",
    "\n",
    "logger=False\n",
    "\n",
    "config = OmegaConf.structured(config)\n",
    "\n",
    "logdir = exp_manager.exp_manager(trainer, config)"
   ]
  },
  {
   "cell_type": "code",
   "execution_count": 96,
   "id": "e2dd56ec-f09d-44ed-b35f-453d1026b14c",
   "metadata": {},
   "outputs": [],
   "source": [
    "# %%time\n",
    "# trainer.fit(char_model)"
   ]
  },
  {
   "cell_type": "markdown",
   "id": "7bbd0d0f",
   "metadata": {},
   "source": [
    "#### Results"
   ]
  },
  {
   "cell_type": "markdown",
   "id": "d4a66808",
   "metadata": {},
   "source": [
    "Whether you trained for small number of epochs, the character word error rate\n",
    "seems high (even after 100 epochs, CER is close to 68% or so on the test set).\n",
    "\n",
    "The high WER (68%) indicates that the model's performance on Vietnamese ASR is not very good yet. Typically, for a well-performing ASR system, we'd want to see lower WER values, ideally below 20% or even lower for production-ready systems. \n",
    "\n",
    "This suggests that further optimization, more training data, and adjustments to the model architecture might be necessary to improve performance on Vietnamese ASR.Considering the limited amount of data available and the extensive vocabulary, this is expected to some degree.For reference, AISHELL datasets comprise some few hundred to one thousand hours of Mandarin speech to train roughly 5600 tokens, and those models are generally trained for a very long time on multi GPU setups."
   ]
  },
  {
   "cell_type": "code",
   "execution_count": 51,
   "id": "79368cf6-02e3-4e1e-9d1f-a91e5664307e",
   "metadata": {},
   "outputs": [
    {
     "name": "stdout",
     "output_type": "stream",
     "text": [
      "Model saved at path : /root/verb-workspace/Model-v1-vi.nemo\n"
     ]
    }
   ],
   "source": [
    "save_path = f\"Model-v1-{LANGUAGE}.nemo\"\n",
    "char_model.save_to(f\"{save_path}\")\n",
    "print(f\"Model saved at path : {os.getcwd() + os.path.sep + save_path}\")"
   ]
  },
  {
   "cell_type": "markdown",
   "id": "2c3a4dad-1b43-453e-8c02-5ab5f66e1f75",
   "metadata": {},
   "source": [
    "#### Testing"
   ]
  },
  {
   "cell_type": "markdown",
   "id": "f253f727",
   "metadata": {},
   "source": [
    "Below we show how to test an out of the box vietnamese audio, assuming .mp3 file format. Assuming the steps of training and saving the model in a similar notebook environment you can test the output as follows:"
   ]
  },
  {
   "cell_type": "code",
   "execution_count": 55,
   "id": "9645e168-830d-4c36-b744-f5adceba9daa",
   "metadata": {},
   "outputs": [
    {
     "name": "stderr",
     "output_type": "stream",
     "text": [
      "[NeMo W 2024-10-07 09:35:31 modelPT:176] If you intend to do training or fine-tuning, please call the ModelPT.setup_training_data() method and provide a valid configuration file to setup the train data loader.\n",
      "    Train config : \n",
      "    manifest_filepath: datasets/vi/mozilla-foundation/common_voice_17_0/vi/train/train_mozilla-foundation_common_voice_17_0_manifest_processed.json,datasets/vi/mozilla-foundation/common_voice_17_0/vi/validation/validation_mozilla-foundation_common_voice_17_0_manifest_processed.json\n",
      "    sample_rate: 16000\n",
      "    labels:\n",
      "    - ó\n",
      "    - ệ\n",
      "    - ò\n",
      "    - è\n",
      "    - ổ\n",
      "    - i\n",
      "    - ã\n",
      "    - h\n",
      "    - ớ\n",
      "    - ờ\n",
      "    - ố\n",
      "    - ị\n",
      "    - o\n",
      "    - v\n",
      "    - ý\n",
      "    - p\n",
      "    - a\n",
      "    - ậ\n",
      "    - ỡ\n",
      "    - f\n",
      "    - ả\n",
      "    - ế\n",
      "    - ù\n",
      "    - ừ\n",
      "    - ồ\n",
      "    - ủ\n",
      "    - ẫ\n",
      "    - ỷ\n",
      "    - ộ\n",
      "    - b\n",
      "    - â\n",
      "    - s\n",
      "    - k\n",
      "    - ì\n",
      "    - á\n",
      "    - ẩ\n",
      "    - é\n",
      "    - l\n",
      "    - ụ\n",
      "    - ễ\n",
      "    - ĩ\n",
      "    - ô\n",
      "    - e\n",
      "    - u\n",
      "    - ' '\n",
      "    - t\n",
      "    - d\n",
      "    - ợ\n",
      "    - ư\n",
      "    - ẹ\n",
      "    - 'y'\n",
      "    - ẻ\n",
      "    - ẽ\n",
      "    - ă\n",
      "    - ê\n",
      "    - ằ\n",
      "    - ỗ\n",
      "    - ể\n",
      "    - g\n",
      "    - 'n'\n",
      "    - ắ\n",
      "    - à\n",
      "    - ầ\n",
      "    - í\n",
      "    - ỏ\n",
      "    - ứ\n",
      "    - ử\n",
      "    - ỹ\n",
      "    - q\n",
      "    - õ\n",
      "    - ũ\n",
      "    - ẳ\n",
      "    - ự\n",
      "    - ạ\n",
      "    - ữ\n",
      "    - ề\n",
      "    - ỉ\n",
      "    - ơ\n",
      "    - ọ\n",
      "    - c\n",
      "    - ẵ\n",
      "    - r\n",
      "    - x\n",
      "    - ấ\n",
      "    - ú\n",
      "    - đ\n",
      "    - ở\n",
      "    - ỳ\n",
      "    - ỵ\n",
      "    - ặ\n",
      "    - m\n",
      "    batch_size: 32\n",
      "    trim_silence: true\n",
      "    max_duration: 16.7\n",
      "    shuffle: true\n",
      "    is_tarred: false\n",
      "    tarred_audio_filepaths: /asr_set_1.2/train/train_{0..1023}.tar\n",
      "    num_workers: 8\n",
      "    normalize_transcripts: false\n",
      "    pin_memory: true\n",
      "    \n",
      "[NeMo W 2024-10-07 09:35:31 modelPT:183] If you intend to do validation, please call the ModelPT.setup_validation_data() or ModelPT.setup_multiple_validation_data() method and provide a valid configuration file to setup the validation data loader(s). \n",
      "    Validation config : \n",
      "    manifest_filepath: datasets/vi/mozilla-foundation/common_voice_17_0/vi/test/test_mozilla-foundation_common_voice_17_0_manifest_processed.json\n",
      "    sample_rate: 16000\n",
      "    labels:\n",
      "    - ó\n",
      "    - ệ\n",
      "    - ò\n",
      "    - è\n",
      "    - ổ\n",
      "    - i\n",
      "    - ã\n",
      "    - h\n",
      "    - ớ\n",
      "    - ờ\n",
      "    - ố\n",
      "    - ị\n",
      "    - o\n",
      "    - v\n",
      "    - ý\n",
      "    - p\n",
      "    - a\n",
      "    - ậ\n",
      "    - ỡ\n",
      "    - f\n",
      "    - ả\n",
      "    - ế\n",
      "    - ù\n",
      "    - ừ\n",
      "    - ồ\n",
      "    - ủ\n",
      "    - ẫ\n",
      "    - ỷ\n",
      "    - ộ\n",
      "    - b\n",
      "    - â\n",
      "    - s\n",
      "    - k\n",
      "    - ì\n",
      "    - á\n",
      "    - ẩ\n",
      "    - é\n",
      "    - l\n",
      "    - ụ\n",
      "    - ễ\n",
      "    - ĩ\n",
      "    - ô\n",
      "    - e\n",
      "    - u\n",
      "    - ' '\n",
      "    - t\n",
      "    - d\n",
      "    - ợ\n",
      "    - ư\n",
      "    - ẹ\n",
      "    - 'y'\n",
      "    - ẻ\n",
      "    - ẽ\n",
      "    - ă\n",
      "    - ê\n",
      "    - ằ\n",
      "    - ỗ\n",
      "    - ể\n",
      "    - g\n",
      "    - 'n'\n",
      "    - ắ\n",
      "    - à\n",
      "    - ầ\n",
      "    - í\n",
      "    - ỏ\n",
      "    - ứ\n",
      "    - ử\n",
      "    - ỹ\n",
      "    - q\n",
      "    - õ\n",
      "    - ũ\n",
      "    - ẳ\n",
      "    - ự\n",
      "    - ạ\n",
      "    - ữ\n",
      "    - ề\n",
      "    - ỉ\n",
      "    - ơ\n",
      "    - ọ\n",
      "    - c\n",
      "    - ẵ\n",
      "    - r\n",
      "    - x\n",
      "    - ấ\n",
      "    - ú\n",
      "    - đ\n",
      "    - ở\n",
      "    - ỳ\n",
      "    - ỵ\n",
      "    - ặ\n",
      "    - m\n",
      "    batch_size: 8\n",
      "    shuffle: false\n",
      "    normalize_transcripts: false\n",
      "    num_workers: 8\n",
      "    pin_memory: true\n",
      "    trim_silence: true\n",
      "    \n"
     ]
    },
    {
     "name": "stdout",
     "output_type": "stream",
     "text": [
      "[NeMo I 2024-10-07 09:35:31 features:305] PADDING: 16\n",
      "[NeMo I 2024-10-07 09:35:32 save_restore_connector:263] Model EncDecCTCModel was successfully restored from /root/verb-workspace/Model-v1-vi.nemo.\n",
      "Model loaded from /root/verb-workspace/Model-v1-vi.nemo\n",
      "MP3 file converted to WAV: OOB Data WAV/FPTOpenSpeechData_Set001_V0.1_002090.wav\n"
     ]
    },
    {
     "name": "stderr",
     "output_type": "stream",
     "text": [
      "Transcribing: 100%|██████████| 1/1 [00:00<00:00, 15.18it/s]"
     ]
    },
    {
     "name": "stdout",
     "output_type": "stream",
     "text": [
      "Transcription: có đân nghiệp thang ngay phoật hờ thay đói nhắn là đến nhỉ khôn nhàn tâu tân\n"
     ]
    },
    {
     "name": "stderr",
     "output_type": "stream",
     "text": [
      "\n"
     ]
    }
   ],
   "source": [
    "import nemo.collections.asr as nemo_asr\n",
    "from pydub import AudioSegment # pip install pydub if not part of env\n",
    "import os\n",
    "\n",
    "# Function to convert MP3 to WAV format\n",
    "def convert_mp3_to_wav(mp3_file, wav_file):\n",
    "    audio = AudioSegment.from_mp3(mp3_file)\n",
    "    audio.export(wav_file, format=\"wav\")\n",
    "\n",
    "# Path to the saved NeMo model\n",
    "model_path = \"/root/verb-workspace/Model-v1-vi.nemo\"\n",
    "\n",
    "# Load the saved ASR model\n",
    "asr_model = nemo_asr.models.ASRModel.restore_from(model_path)\n",
    "print(f\"Model loaded from {model_path}\")\n",
    "\n",
    "# Path to your MP3 file in the root directory\n",
    "mp3_file = 'OOB Data/FPTOpenSpeechData_Set002_V0.1_002090.mp3'  # Replace this with the actual file name of your MP3\n",
    "wav_file = 'OOB Data WAV/FPTOpenSpeechData_Set001_V0.1_002090.wav'\n",
    "\n",
    "# Convert MP3 to WAV\n",
    "convert_mp3_to_wav(mp3_file, wav_file)\n",
    "print(f\"MP3 file converted to WAV: {wav_file}\")\n",
    "\n",
    "# Transcribe the WAV file using the ASR model\n",
    "transcription = asr_model.transcribe([wav_file])\n",
    "\n",
    "# Output the transcription\n",
    "print(f\"Transcription: {transcription[0]}\")\n"
   ]
  },
  {
   "cell_type": "markdown",
   "id": "9ec4a68b-9bf7-4a95-8bcf-1d3a8e247440",
   "metadata": {},
   "source": [
    "## Sub-word Encoding CTC Model"
   ]
  },
  {
   "cell_type": "markdown",
   "id": "aff15a6c",
   "metadata": {},
   "source": [
    "Sub-word encoding models are almost nearly identical to the Character encoding models. The primary difference lies in the fact that a sub-encoding model accepts a sub-word tokenized text corpus and emits sub-word tokens in its decoding step. The following section will detail how we prepare a CTC model which utilizes a sub-word Encoding scheme.\n",
    "\n",
    "For this section, we will utilize a pre-trained Citrinet 512 trained on roughly 7,000 hours of English speech as the base model. We will modify the decoder layer (thereby changing the model's vocabulary) and then train for a small number of epochs."
   ]
  },
  {
   "cell_type": "markdown",
   "id": "bebeda31",
   "metadata": {},
   "source": [
    "##### Prepare Tokenizer"
   ]
  },
  {
   "cell_type": "markdown",
   "id": "2a4904aa",
   "metadata": {},
   "source": [
    "Before we update the vocabulary of the model, first, we need to construct a tokenizer. NeMo supports both Word Piece Tokenizer (via HuggingFace) or Sentence Piece Tokenizer (via Google SentencePiece library). We will utilize the SentencePiece tokenizer in this tutorial.\n",
    "\n",
    "Preparation of the tokenizer is made simple by the process_asr_text_tokenizer.py script in NeMo. We will leverage this script to build the text corpus from the manifest directly, then create a tokenizer using that corpus.\n",
    "\n",
    "Note: Ordinarily, for languages that have such substantially large vocabularies, there is no significant benefit obtained by constructing sub-word vocabulary. In Natural Language Processing, we could use enormous vocabulary sizes of 10,000+ tokens, but that is unfeasible for CTC loss training of ASR models.\n",
    "\n",
    "Therefore, we will construct a sub-word tokenizer with vocabulary size exactly the same as the character encoding model plus add a few tokens required by SentencePiece required to perform tokenization. You can experiment with the effect of larger vocabularies by editing VOCAB_SIZE below."
   ]
  },
  {
   "cell_type": "code",
   "execution_count": 56,
   "id": "84839f17-abea-4c82-9c28-258aaac21eda",
   "metadata": {},
   "outputs": [
    {
     "name": "stdout",
     "output_type": "stream",
     "text": [
      "--2024-10-07 10:10:01--  https://raw.githubusercontent.com/NVIDIA/NeMo/main/scripts/tokenizers/process_asr_text_tokenizer.py\n",
      "Resolving raw.githubusercontent.com (raw.githubusercontent.com)... 185.199.110.133, 185.199.108.133, 185.199.111.133, ...\n",
      "Connecting to raw.githubusercontent.com (raw.githubusercontent.com)|185.199.110.133|:443... connected.\n",
      "HTTP request sent, awaiting response... 200 OK\n",
      "Length: 16631 (16K) [text/plain]\n",
      "Saving to: ‘scripts/process_asr_text_tokenizer.py’\n",
      "\n",
      "process_asr_text_to 100%[===================>]  16.24K  --.-KB/s    in 0s      \n",
      "\n",
      "2024-10-07 10:10:02 (80.7 MB/s) - ‘scripts/process_asr_text_tokenizer.py’ saved [16631/16631]\n",
      "\n"
     ]
    }
   ],
   "source": [
    "if not os.path.exists(\"scripts/process_asr_text_tokenizer.py\"):\n",
    "  !wget -P scripts/ https://raw.githubusercontent.com/NVIDIA/NeMo/main/scripts/tokenizers/process_asr_text_tokenizer.py"
   ]
  },
  {
   "cell_type": "code",
   "execution_count": 57,
   "id": "c66b709d-0cf2-40b2-896c-4fbd43bbb086",
   "metadata": {},
   "outputs": [],
   "source": [
    "#@title Tokenizer Config { display-mode: \"form\" }\n",
    "TOKENIZER_TYPE = \"bpe\" #@param [\"bpe\", \"unigram\"]"
   ]
  },
  {
   "cell_type": "markdown",
   "id": "5664b515",
   "metadata": {},
   "source": [
    " You might wonder, why do we need len(train_dev_set) + 2 as the minimumVOCAB_SIZE. The answer is that we are utilizing the SentencePiece implementation of the Byte Pair Tokenization algorithm.In this case, the byte piece tokenizer requires at least two tokens -  and _. SentencePiece represents  using the ⁇ token."
   ]
  },
  {
   "cell_type": "code",
   "execution_count": 58,
   "id": "c76c27b3-e601-4c3a-bc43-24c6dc222fab",
   "metadata": {},
   "outputs": [],
   "source": [
    "# << VOCAB SIZE can be changed to any value larger than (len(train_dev_set) + 2)! >>\n",
    "VOCAB_SIZE = len(train_dev_set) + 2"
   ]
  },
  {
   "cell_type": "code",
   "execution_count": 59,
   "id": "450b047c-58c7-41ad-889e-3860016f982d",
   "metadata": {},
   "outputs": [
    {
     "name": "stdout",
     "output_type": "stream",
     "text": [
      "INFO:root:Finished extracting manifest : datasets/vi/mozilla-foundation/common_voice_17_0/vi/train/train_mozilla-foundation_common_voice_17_0_manifest_processed.json\n",
      "INFO:root:Finished extracting manifest : datasets/vi/mozilla-foundation/common_voice_17_0/vi/validation/validation_mozilla-foundation_common_voice_17_0_manifest_processed.json\n",
      "INFO:root:Finished extracting all manifests ! Number of sentences : 2939\n",
      "[NeMo I 2024-10-07 10:10:44 sentencepiece_tokenizer:317] Processing tokenizers/vi/text_corpus/document.txt and store at tokenizers/vi/tokenizer_spe_bpe_v93\n",
      "sentencepiece_trainer.cc(178) LOG(INFO) Running command: --input=tokenizers/vi/text_corpus/document.txt --model_prefix=tokenizers/vi/tokenizer_spe_bpe_v93/tokenizer --vocab_size=93 --shuffle_input_sentence=true --hard_vocab_limit=false --model_type=bpe --character_coverage=1.0 --bos_id=-1 --eos_id=-1\n",
      "sentencepiece_trainer.cc(78) LOG(INFO) Starts training with : \n",
      "trainer_spec {\n",
      "  input: tokenizers/vi/text_corpus/document.txt\n",
      "  input_format: \n",
      "  model_prefix: tokenizers/vi/tokenizer_spe_bpe_v93/tokenizer\n",
      "  model_type: BPE\n",
      "  vocab_size: 93\n",
      "  self_test_sample_size: 0\n",
      "  character_coverage: 1\n",
      "  input_sentence_size: 0\n",
      "  shuffle_input_sentence: 1\n",
      "  seed_sentencepiece_size: 1000000\n",
      "  shrinking_factor: 0.75\n",
      "  max_sentence_length: 4192\n",
      "  num_threads: 16\n",
      "  num_sub_iterations: 2\n",
      "  max_sentencepiece_length: 16\n",
      "  split_by_unicode_script: 1\n",
      "  split_by_number: 1\n",
      "  split_by_whitespace: 1\n",
      "  split_digits: 0\n",
      "  pretokenization_delimiter: \n",
      "  treat_whitespace_as_suffix: 0\n",
      "  allow_whitespace_only_pieces: 0\n",
      "  required_chars: \n",
      "  byte_fallback: 0\n",
      "  vocabulary_output_piece_score: 1\n",
      "  train_extremely_large_corpus: 0\n",
      "  seed_sentencepieces_file: \n",
      "  hard_vocab_limit: 0\n",
      "  use_all_vocab: 0\n",
      "  unk_id: 0\n",
      "  bos_id: -1\n",
      "  eos_id: -1\n",
      "  pad_id: -1\n",
      "  unk_piece: <unk>\n",
      "  bos_piece: <s>\n",
      "  eos_piece: </s>\n",
      "  pad_piece: <pad>\n",
      "  unk_surface:  ⁇ \n",
      "  enable_differential_privacy: 0\n",
      "  differential_privacy_noise_level: 0\n",
      "  differential_privacy_clipping_threshold: 0\n",
      "}\n",
      "normalizer_spec {\n",
      "  name: nmt_nfkc\n",
      "  add_dummy_prefix: 1\n",
      "  remove_extra_whitespaces: 1\n",
      "  escape_whitespaces: 1\n",
      "  normalization_rule_tsv: \n",
      "}\n",
      "denormalizer_spec {}\n",
      "trainer_interface.cc(353) LOG(INFO) SentenceIterator is not specified. Using MultiFileSentenceIterator.\n",
      "trainer_interface.cc(185) LOG(INFO) Loading corpus: tokenizers/vi/text_corpus/document.txt\n",
      "trainer_interface.cc(409) LOG(INFO) Loaded all 2939 sentences\n",
      "trainer_interface.cc(425) LOG(INFO) Adding meta_piece: <unk>\n",
      "trainer_interface.cc(430) LOG(INFO) Normalizing sentences...\n",
      "trainer_interface.cc(539) LOG(INFO) all chars count=93795\n",
      "trainer_interface.cc(560) LOG(INFO) Alphabet size=91\n",
      "trainer_interface.cc(561) LOG(INFO) Final character coverage=1\n",
      "trainer_interface.cc(592) LOG(INFO) Done! preprocessed 2939 sentences.\n",
      "trainer_interface.cc(598) LOG(INFO) Tokenizing input sentences with whitespace: 2939\n",
      "trainer_interface.cc(609) LOG(INFO) Done! 2184\n",
      "bpe_model_trainer.cc(159) LOG(INFO) Updating active symbols. max_freq=3206 min_freq=1\n",
      "trainer_interface.cc(687) LOG(INFO) Saving model: tokenizers/vi/tokenizer_spe_bpe_v93/tokenizer.model\n",
      "trainer_interface.cc(699) LOG(INFO) Saving vocabs: tokenizers/vi/tokenizer_spe_bpe_v93/tokenizer.vocab\n",
      "Serialized tokenizer at location : tokenizers/vi/tokenizer_spe_bpe_v93\n",
      "INFO:root:Done!\n"
     ]
    }
   ],
   "source": [
    "!python scripts/process_asr_text_tokenizer.py \\\n",
    "  --manifest=$train_manifest_cleaned,$dev_manifest_cleaned \\\n",
    "  --vocab_size=$VOCAB_SIZE \\\n",
    "  --data_root=$tokenizer_dir \\\n",
    "  --tokenizer=\"spe\" \\\n",
    "  --spe_type=$TOKENIZER_TYPE \\\n",
    "  --spe_character_coverage=1.0 \\\n",
    "  --no_lower_case \\\n",
    "  --log"
   ]
  },
  {
   "cell_type": "code",
   "execution_count": 60,
   "id": "4f2f4268-0faa-46df-b2ef-acc86d9e4af1",
   "metadata": {},
   "outputs": [
    {
     "name": "stdout",
     "output_type": "stream",
     "text": [
      "Tokenizer directory : tokenizers/vi/tokenizer_spe_bpe_v93/\n"
     ]
    }
   ],
   "source": [
    "TOKENIZER_DIR = f\"{tokenizer_dir}/tokenizer_spe_{TOKENIZER_TYPE}_v{VOCAB_SIZE}/\"\n",
    "print(\"Tokenizer directory :\", TOKENIZER_DIR)"
   ]
  },
  {
   "cell_type": "markdown",
   "id": "d5bc2906",
   "metadata": {},
   "source": [
    "When using the unigram tokenizer, for certain languages, it is possible to request a tokenizer vocab size larger than the number of unique unigram subwords that can be built from the text corpus.\n",
    "\n",
    "This happens more frequently in low-resource languages where a very small number of transcripts exist.So we perform a check, asserting that the number of tokens in the vocabulary is >= the VOCAB_SIZE."
   ]
  },
  {
   "cell_type": "code",
   "execution_count": 61,
   "id": "3dc2bccf-43b2-45d9-8b1c-545b96284b48",
   "metadata": {},
   "outputs": [
    {
     "name": "stdout",
     "output_type": "stream",
     "text": [
      "Number of tokens :  93\n"
     ]
    }
   ],
   "source": [
    " # Number of tokens in tokenizer -\n",
    "with open(os.path.join(TOKENIZER_DIR, 'tokenizer.vocab')) as f:\n",
    "  tokens = f.readlines()\n",
    "\n",
    "num_tokens = len(tokens)\n",
    "print(\"Number of tokens : \", num_tokens)"
   ]
  },
  {
   "cell_type": "code",
   "execution_count": 62,
   "id": "5887e2c9-65e0-4f1a-833f-9f901573a406",
   "metadata": {},
   "outputs": [],
   "source": [
    "if num_tokens < VOCAB_SIZE:\n",
    "    print(\n",
    "        f\"The text in this dataset is too small to construct a tokenizer \"\n",
    "        f\"with vocab size = {VOCAB_SIZE}. Current number of tokens = {num_tokens}. \"\n",
    "        f\"Please reconstruct the tokenizer with fewer tokens\"\n",
    "    )"
   ]
  },
  {
   "cell_type": "markdown",
   "id": "22b803c2",
   "metadata": {},
   "source": [
    "#### Load pre-trained model"
   ]
  },
  {
   "cell_type": "code",
   "execution_count": 63,
   "id": "59f34475-6a98-41fa-9b1d-d928a5015437",
   "metadata": {},
   "outputs": [
    {
     "name": "stdout",
     "output_type": "stream",
     "text": [
      "[NeMo I 2024-10-07 10:11:32 cloud:68] Downloading from: https://api.ngc.nvidia.com/v2/models/nvidia/nemo/stt_en_citrinet_512/versions/1.0.0rc1/files/stt_en_citrinet_512.nemo to /root/.cache/torch/NeMo/NeMo_2.0.0rc0/stt_en_citrinet_512/3262321355385bb7cf5a583146117d77/stt_en_citrinet_512.nemo\n",
      "[NeMo I 2024-10-07 10:11:39 common:815] Instantiating model from pre-trained checkpoint\n",
      "[NeMo I 2024-10-07 10:11:41 mixins:172] Tokenizer SentencePieceTokenizer initialized with 1024 tokens\n"
     ]
    },
    {
     "name": "stderr",
     "output_type": "stream",
     "text": [
      "[NeMo W 2024-10-07 10:11:42 modelPT:176] If you intend to do training or fine-tuning, please call the ModelPT.setup_training_data() method and provide a valid configuration file to setup the train data loader.\n",
      "    Train config : \n",
      "    manifest_filepath: null\n",
      "    sample_rate: 16000\n",
      "    batch_size: 32\n",
      "    trim_silence: true\n",
      "    max_duration: 16.7\n",
      "    shuffle: true\n",
      "    is_tarred: false\n",
      "    tarred_audio_filepaths: null\n",
      "    \n",
      "[NeMo W 2024-10-07 10:11:42 modelPT:183] If you intend to do validation, please call the ModelPT.setup_validation_data() or ModelPT.setup_multiple_validation_data() method and provide a valid configuration file to setup the validation data loader(s). \n",
      "    Validation config : \n",
      "    manifest_filepath: null\n",
      "    sample_rate: 16000\n",
      "    batch_size: 32\n",
      "    shuffle: false\n",
      "    \n",
      "[NeMo W 2024-10-07 10:11:42 modelPT:189] Please call the ModelPT.setup_test_data() or ModelPT.setup_multiple_test_data() method and provide a valid configuration file to setup the test data loader(s).\n",
      "    Test config : \n",
      "    manifest_filepath:\n",
      "    - /home/smajumdar/PycharmProjects/nemo-eval/nemo_eval/librispeech/manifests/dev_other.json\n",
      "    sample_rate: 16000\n",
      "    batch_size: 32\n",
      "    shuffle: false\n",
      "    num_workers: 12\n",
      "    pin_memory: true\n",
      "    \n"
     ]
    },
    {
     "name": "stdout",
     "output_type": "stream",
     "text": [
      "[NeMo I 2024-10-07 10:11:42 features:305] PADDING: 16\n",
      "[NeMo I 2024-10-07 10:11:43 save_restore_connector:263] Model EncDecCTCModelBPE was successfully restored from /root/.cache/torch/NeMo/NeMo_2.0.0rc0/stt_en_citrinet_512/3262321355385bb7cf5a583146117d77/stt_en_citrinet_512.nemo.\n"
     ]
    }
   ],
   "source": [
    "model = nemo_asr.models.ASRModel.from_pretrained(\"stt_en_citrinet_512\", map_location='cuda')"
   ]
  },
  {
   "cell_type": "markdown",
   "id": "acba0577",
   "metadata": {},
   "source": [
    "####  Preserving decoder initialization for sub-word models"
   ]
  },
  {
   "cell_type": "code",
   "execution_count": 64,
   "id": "67769eb3-4975-4e3c-a158-f55a43df1f74",
   "metadata": {},
   "outputs": [],
   "source": [
    "# Preserve the decoder parameters in case weight matching can be done later\n",
    "pretrained_decoder = model.decoder.state_dict()"
   ]
  },
  {
   "cell_type": "markdown",
   "id": "25a47446",
   "metadata": {},
   "source": [
    "#### Update the vocabulary"
   ]
  },
  {
   "cell_type": "markdown",
   "id": "41844350",
   "metadata": {},
   "source": [
    "Changing the vocabulary of a sub-word encoding ASR model is as simple as passing the path of the tokenizer dir to change_vocabulary()."
   ]
  },
  {
   "cell_type": "code",
   "execution_count": 65,
   "id": "cc1f5da8-b0f7-46e7-9389-7f34e287f421",
   "metadata": {},
   "outputs": [
    {
     "name": "stderr",
     "output_type": "stream",
     "text": [
      "[NeMo W 2024-10-07 10:12:11 modelPT:272] You tried to register an artifact under config key=tokenizer.model_path but an artifact for it has already been registered.\n",
      "[NeMo W 2024-10-07 10:12:11 modelPT:272] You tried to register an artifact under config key=tokenizer.vocab_path but an artifact for it has already been registered.\n"
     ]
    },
    {
     "name": "stdout",
     "output_type": "stream",
     "text": [
      "[NeMo I 2024-10-07 10:12:11 mixins:172] Tokenizer SentencePieceTokenizer initialized with 93 tokens\n",
      "[NeMo I 2024-10-07 10:12:11 ctc_bpe_models:265] \n",
      "    Replacing old number of classes (1024) with new number of classes - 93\n",
      "[NeMo I 2024-10-07 10:12:12 ctc_bpe_models:307] Changed tokenizer to ['<unk>', '▁c', '▁', 'n', 'h', 'i', 't', 'c', 'g', 'm', 'a', 'đ', 'à', 'u', 'o', 'l', 'y', 'r', 'ư', 'b', 'ô', 'v', 'k', 'ó', 'á', 's', 'ế', 'ì', 'ạ', 'ờ', 'p', 'ả', 'ấ', 'ê', 'e', 'ớ', 'â', 'ề', 'ộ', 'ố', 'ơ', 'ồ', 'q', 'ợ', 'ậ', 'ủ', 'x', 'd', 'ú', 'ắ', 'ầ', 'ệ', 'ò', 'ể', 'ã', 'ở', 'ứ', 'ẹ', 'ọ', 'ữ', 'ị', 'ũ', 'ừ', 'í', 'ặ', 'é', 'ă', 'ỏ', 'ù', 'ỉ', 'ẽ', 'ẫ', 'ự', 'ỗ', 'ử', 'ổ', 'ụ', 'ằ', 'ĩ', 'ẳ', 'ẻ', 'è', 'ý', 'ẩ', 'ỡ', 'ỷ', 'õ', 'ỳ', 'ễ', 'f', 'ỵ', 'ẵ', 'ỹ'] vocabulary.\n"
     ]
    }
   ],
   "source": [
    "model.change_vocabulary(new_tokenizer_dir=TOKENIZER_DIR, new_tokenizer_type=\"bpe\") "
   ]
  },
  {
   "cell_type": "markdown",
   "id": "4a35aeb0",
   "metadata": {},
   "source": [
    "####  Restore decoder weights (if possible)"
   ]
  },
  {
   "cell_type": "markdown",
   "id": "00e14acd",
   "metadata": {},
   "source": [
    "If the new vocabulary size matches the old vocabulary size, it is possible to restore the decoder weights in addition to the encoder weights.The following snippet checks the weight shapes and then attempts to restore the parameters of the decoder."
   ]
  },
  {
   "cell_type": "code",
   "execution_count": 66,
   "id": "c06e4a62-3896-4c41-95c1-629bacc7cfb4",
   "metadata": {},
   "outputs": [
    {
     "name": "stdout",
     "output_type": "stream",
     "text": [
      "[NeMo I 2024-10-07 10:12:28 965178770:6] \n",
      "    Decoder shapes did not match - could not restore decoder weights from pre-trained model.\n"
     ]
    }
   ],
   "source": [
    "# Insert preserved model weights if shapes match\n",
    "if model.decoder.decoder_layers[0].weight.shape == pretrained_decoder['decoder_layers.0.weight'].shape:\n",
    "    model.decoder.load_state_dict(pretrained_decoder)\n",
    "    logging.info(\"Decoder shapes matched - restored weights from pre-trained model\")\n",
    "else:\n",
    "    logging.info(\"\\nDecoder shapes did not match - could not restore decoder weights from pre-trained model.\")"
   ]
  },
  {
   "cell_type": "markdown",
   "id": "2488b31b",
   "metadata": {},
   "source": [
    " Similar to the Character-based models, we can freeze the encoder and unfreeze the batch normalization layers if the dataset is tiny."
   ]
  },
  {
   "cell_type": "code",
   "execution_count": 67,
   "id": "ee1cf2bb-74ad-425d-b103-72b4df5d5730",
   "metadata": {},
   "outputs": [],
   "source": [
    "#@title Freeze Encoder { display-mode: \"form\" }\n",
    "freeze_encoder = True #@param [\"False\", \"True\"] {type:\"raw\"}\n",
    "freeze_encoder = bool(freeze_encoder)"
   ]
  },
  {
   "cell_type": "code",
   "execution_count": 68,
   "id": "41211352-660f-40de-a02e-e87a1dc6835c",
   "metadata": {},
   "outputs": [
    {
     "name": "stdout",
     "output_type": "stream",
     "text": [
      "[NeMo I 2024-10-07 10:12:54 2799607833:4] Model encoder has been frozen\n"
     ]
    }
   ],
   "source": [
    "if freeze_encoder:\n",
    "  model.encoder.freeze()\n",
    "  model.encoder.apply(enable_bn_se)\n",
    "  logging.info(\"Model encoder has been frozen\")\n",
    "else:\n",
    "  model.encoder.unfreeze()\n",
    "  logging.info(\"Model encoder has been un-frozen\")"
   ]
  },
  {
   "cell_type": "code",
   "execution_count": 69,
   "id": "d55de9f0-7150-43a0-866f-335359d5418b",
   "metadata": {},
   "outputs": [],
   "source": [
    "cfg = copy.deepcopy(model.cfg)"
   ]
  },
  {
   "cell_type": "code",
   "execution_count": 70,
   "id": "de0d6752-0069-457a-8487-fcabf33ae518",
   "metadata": {},
   "outputs": [],
   "source": [
    "# Setup new tokenizer\n",
    "cfg.tokenizer.dir = TOKENIZER_DIR\n",
    "cfg.tokenizer.type = \"bpe\"\n",
    "\n",
    "# Set tokenizer config\n",
    "model.cfg.tokenizer = cfg.tokenizer"
   ]
  },
  {
   "cell_type": "markdown",
   "id": "ded96b91",
   "metadata": {},
   "source": [
    "####  Setup data loaders"
   ]
  },
  {
   "cell_type": "markdown",
   "id": "9a91e6cb",
   "metadata": {},
   "source": [
    "While significant sections remain the same between character-based and sub-word-based model configs - the data loaders are the main area where they diverge.\n",
    "\n",
    "The sub-word encoding models do not require a \"model.cfg.labels\" section. In fact, their data loaders do not require labels at all! The labels are automatically extracted from the provided tokenizer, and the data loaders and updated implicitly."
   ]
  },
  {
   "cell_type": "code",
   "execution_count": 71,
   "id": "a4a50771-b8ed-4258-8c34-bed2fc1ee673",
   "metadata": {},
   "outputs": [
    {
     "name": "stdout",
     "output_type": "stream",
     "text": [
      "manifest_filepath: null\n",
      "sample_rate: 16000\n",
      "batch_size: 32\n",
      "trim_silence: true\n",
      "max_duration: 16.7\n",
      "shuffle: true\n",
      "is_tarred: false\n",
      "tarred_audio_filepaths: null\n",
      "\n"
     ]
    }
   ],
   "source": [
    "# Setup train/val/test configs\n",
    "print(OmegaConf.to_yaml(cfg.train_ds))"
   ]
  },
  {
   "cell_type": "code",
   "execution_count": 72,
   "id": "082d3b13-5549-4e6f-80ca-781da326ca3f",
   "metadata": {},
   "outputs": [],
   "source": [
    "# Setup train, validation, test configs\n",
    "with open_dict(cfg):\n",
    "  # Train dataset\n",
    "  cfg.train_ds.manifest_filepath = f\"{train_manifest_cleaned},{dev_manifest_cleaned}\"\n",
    "  cfg.train_ds.batch_size = 32\n",
    "  cfg.train_ds.num_workers = 8\n",
    "  cfg.train_ds.pin_memory = True\n",
    "  cfg.train_ds.use_start_end_token = True\n",
    "  cfg.train_ds.trim_silence = True\n",
    "\n",
    "  # Validation dataset\n",
    "  cfg.validation_ds.manifest_filepath = test_manifest_cleaned\n",
    "  cfg.validation_ds.batch_size = 8\n",
    "  cfg.validation_ds.num_workers = 8\n",
    "  cfg.validation_ds.pin_memory = True\n",
    "  cfg.validation_ds.use_start_end_token = True\n",
    "  cfg.validation_ds.trim_silence = True\n",
    "\n",
    "  # Test dataset\n",
    "  cfg.test_ds.manifest_filepath = test_manifest_cleaned\n",
    "  cfg.test_ds.batch_size = 8\n",
    "  cfg.test_ds.num_workers = 8\n",
    "  cfg.test_ds.pin_memory = True\n",
    "  cfg.test_ds.use_start_end_token = True\n",
    "  cfg.test_ds.trim_silence = True"
   ]
  },
  {
   "cell_type": "code",
   "execution_count": 73,
   "id": "a110c5b8-d943-4235-8b5a-ed85caf1da74",
   "metadata": {},
   "outputs": [
    {
     "name": "stdout",
     "output_type": "stream",
     "text": [
      "[NeMo I 2024-10-07 10:13:32 collections:196] Dataset loaded with 2939 files totalling 3.52 hours\n",
      "[NeMo I 2024-10-07 10:13:32 collections:197] 0 files were filtered totalling 0.00 hours\n",
      "[NeMo I 2024-10-07 10:13:33 collections:196] Dataset loaded with 1274 files totalling 1.35 hours\n",
      "[NeMo I 2024-10-07 10:13:33 collections:197] 0 files were filtered totalling 0.00 hours\n",
      "[NeMo I 2024-10-07 10:13:33 collections:196] Dataset loaded with 1274 files totalling 1.35 hours\n",
      "[NeMo I 2024-10-07 10:13:33 collections:197] 0 files were filtered totalling 0.00 hours\n"
     ]
    }
   ],
   "source": [
    "# setup model with new configs\n",
    "model.setup_training_data(cfg.train_ds)\n",
    "model.setup_multiple_validation_data(cfg.validation_ds)\n",
    "model.setup_multiple_test_data(cfg.test_ds)"
   ]
  },
  {
   "cell_type": "markdown",
   "id": "1f8ee049",
   "metadata": {},
   "source": [
    "#### Examine dataset outliers"
   ]
  },
  {
   "cell_type": "markdown",
   "id": "a8294dda",
   "metadata": {},
   "source": [
    "In general, there are minor differences between the Character encoding and Sub-word encoding models. Since sub-words can encode larger sequence of tokens into a single subword, they substantially reduce the target sequence length.Citrinet takes advantage of this reduction by aggressively downsampling the input three times (a total of 8x downsampling). At this level of downsampling, it is possible to encounter a specific limitation of CTC loss."
   ]
  },
  {
   "cell_type": "code",
   "execution_count": 74,
   "id": "80603e7e-9691-4a07-a34b-3154421ec2e4",
   "metadata": {},
   "outputs": [],
   "source": [
    "def analyse_ctc_failures_in_model(model):\n",
    "    count_ctc_failures = 0\n",
    "    am_seq_lengths = []\n",
    "    target_seq_lengths = []\n",
    "\n",
    "    device = torch.device('cuda') if torch.cuda.is_available() else torch.device('cpu')\n",
    "    model = model.to(device)\n",
    "    mode = model.training\n",
    "\n",
    "    train_dl = model.train_dataloader()\n",
    "\n",
    "    with torch.no_grad():\n",
    "      model = model.eval()\n",
    "      for batch in tqdm(train_dl, desc='Checking for CTC failures'):\n",
    "          x, x_len, y, y_len = batch\n",
    "          x, x_len = x.to(device), x_len.to(device)\n",
    "          x_logprobs, x_len, greedy_predictions = model(input_signal=x, input_signal_length=x_len)\n",
    "\n",
    "          # Find how many CTC loss computation failures will occur\n",
    "          for xl, yl in zip(x_len, y_len):\n",
    "              if xl <= yl:\n",
    "                  count_ctc_failures += 1\n",
    "\n",
    "          # Record acoustic model lengths=\n",
    "          am_seq_lengths.extend(x_len.to('cpu').numpy().tolist())\n",
    "\n",
    "          # Record target sequence lengths\n",
    "          target_seq_lengths.extend(y_len.to('cpu').numpy().tolist())\n",
    "\n",
    "          del x, x_len, y, y_len, x_logprobs, greedy_predictions\n",
    "\n",
    "    if mode:\n",
    "      model = model.train()\n",
    "\n",
    "    return count_ctc_failures, am_seq_lengths, target_seq_lengths"
   ]
  },
  {
   "cell_type": "code",
   "execution_count": null,
   "id": "ee09ba8d-977c-407d-b88a-6a616959a953",
   "metadata": {},
   "outputs": [],
   "source": [
    "results = analyse_ctc_failures_in_model(model)"
   ]
  },
  {
   "cell_type": "code",
   "execution_count": 77,
   "id": "eea049fa-6dc2-4bd9-a88f-128c8727b6f5",
   "metadata": {},
   "outputs": [],
   "source": [
    "num_ctc_failures, am_seq_lengths, target_seq_lengths = results"
   ]
  },
  {
   "cell_type": "code",
   "execution_count": 78,
   "id": "f11b60f4-20c8-4d37-8467-caf152c8e1f5",
   "metadata": {},
   "outputs": [
    {
     "name": "stderr",
     "output_type": "stream",
     "text": [
      "[NeMo W 2024-10-07 10:14:21 877355761:2] \n",
      "    CTC loss will fail for 228 samples (7.757740728138823 % of samples)!\n",
      "    Increase the vocabulary size of the tokenizer so that this number becomes close to zero !\n"
     ]
    }
   ],
   "source": [
    "if num_ctc_failures > 0:\n",
    "  logging.warning(f\"\\nCTC loss will fail for {num_ctc_failures} samples ({num_ctc_failures * 100./ float(len(am_seq_lengths))} % of samples)!\\n\"\n",
    "                  f\"Increase the vocabulary size of the tokenizer so that this number becomes close to zero !\")\n",
    "else:\n",
    "  logging.info(\"No CTC failure cases !\")"
   ]
  },
  {
   "cell_type": "code",
   "execution_count": 79,
   "id": "9cf22756-5020-45f6-ab4b-4ab926c4786b",
   "metadata": {},
   "outputs": [
    {
     "name": "stdout",
     "output_type": "stream",
     "text": [
      "Average Acoustic model sequence length = 52.13235794487921\n",
      "Average Target sequence length = 30.823069071112624\n",
      "\n",
      "Ratio of Average AM sequence length to target sequence length = 1.8784254358110515\n"
     ]
    }
   ],
   "source": [
    "# Compute average ratio of T / U\n",
    "avg_T = sum(am_seq_lengths) / float(len(am_seq_lengths))\n",
    "avg_U = sum(target_seq_lengths) / float(len(target_seq_lengths))\n",
    "\n",
    "avg_length_ratio = 0\n",
    "for am_len, tgt_len in zip(am_seq_lengths, target_seq_lengths):\n",
    "  avg_length_ratio += (am_len / float(tgt_len))\n",
    "avg_length_ratio = avg_length_ratio / len(am_seq_lengths)\n",
    "\n",
    "print(f\"Average Acoustic model sequence length = {avg_T}\")\n",
    "print(f\"Average Target sequence length = {avg_U}\")\n",
    "print()\n",
    "print(f\"Ratio of Average AM sequence length to target sequence length = {avg_length_ratio}\")"
   ]
  },
  {
   "cell_type": "markdown",
   "id": "a1816b26",
   "metadata": {},
   "source": [
    "#### Setup optimizer and scheduler"
   ]
  },
  {
   "cell_type": "markdown",
   "id": "1a069b83",
   "metadata": {},
   "source": [
    "Similar to the character encoding model, we slightly reduce the learning rate when fine-tuning."
   ]
  },
  {
   "cell_type": "code",
   "execution_count": 80,
   "id": "aab6fe09-32a8-4418-9d79-70f232262a4e",
   "metadata": {},
   "outputs": [
    {
     "name": "stdout",
     "output_type": "stream",
     "text": [
      "name: novograd\n",
      "lr: 0.05\n",
      "betas:\n",
      "- 0.8\n",
      "- 0.25\n",
      "weight_decay: 0.001\n",
      "sched:\n",
      "  name: CosineAnnealing\n",
      "  warmup_steps: 1000\n",
      "  warmup_ratio: null\n",
      "  min_lr: 1.0e-09\n",
      "  last_epoch: -1\n",
      "\n"
     ]
    }
   ],
   "source": [
    "print(OmegaConf.to_yaml(cfg.optim))"
   ]
  },
  {
   "cell_type": "markdown",
   "id": "6848a9b2",
   "metadata": {},
   "source": [
    "####  Setup data augmentation"
   ]
  },
  {
   "cell_type": "markdown",
   "id": "0a441f75",
   "metadata": {},
   "source": [
    "We also increase the SpecAugment masks to prevent overfitting (since it is a larger model)."
   ]
  },
  {
   "cell_type": "code",
   "execution_count": 81,
   "id": "49b38620-8450-43ef-8370-5db1c1006648",
   "metadata": {},
   "outputs": [],
   "source": [
    "with open_dict(model.cfg.optim):\n",
    "  model.cfg.optim.lr = 0.025\n",
    "  model.cfg.optim.weight_decay = 0.001\n",
    "  model.cfg.optim.sched.warmup_steps = None  # Remove default number of steps of warmup\n",
    "  model.cfg.optim.sched.warmup_ratio = 0.10  # 10 % warmup\n",
    "  model.cfg.optim.sched.min_lr = 1e-9"
   ]
  },
  {
   "cell_type": "code",
   "execution_count": 82,
   "id": "413df443-ae4c-41df-b99d-05f436e4d2f6",
   "metadata": {},
   "outputs": [],
   "source": [
    "with open_dict(model.cfg.spec_augment):\n",
    "  model.cfg.spec_augment.freq_masks = 2\n",
    "  model.cfg.spec_augment.freq_width = 25\n",
    "  model.cfg.spec_augment.time_masks = 10\n",
    "  model.cfg.spec_augment.time_width = 0.05\n",
    "\n",
    "model.spec_augmentation = model.from_config_dict(model.cfg.spec_augment)"
   ]
  },
  {
   "cell_type": "markdown",
   "id": "fd73f21c",
   "metadata": {},
   "source": [
    "####  Setup Metrics"
   ]
  },
  {
   "cell_type": "code",
   "execution_count": 90,
   "id": "76735778-a7cc-4ce2-9677-8a8daaee64dd",
   "metadata": {},
   "outputs": [],
   "source": [
    "#@title Metric\n",
    "use_cer = True #@param [\"False\", \"True\"] {type:\"raw\"}\n",
    "log_prediction = True #@param [\"False\", \"True\"] {type:\"raw\"}"
   ]
  },
  {
   "cell_type": "code",
   "execution_count": 91,
   "id": "4fe0b245-394e-4312-a7b0-3ae62e24bc1f",
   "metadata": {},
   "outputs": [],
   "source": [
    "model.wer.use_cer = use_cer\n",
    "model.wer.log_prediction = log_prediction"
   ]
  },
  {
   "cell_type": "markdown",
   "id": "0651bc83",
   "metadata": {},
   "source": [
    "#### Setup Trainer and Experiment Manager"
   ]
  },
  {
   "cell_type": "markdown",
   "id": "71f3205b",
   "metadata": {},
   "source": [
    "And that's it! Now we can train the model by simply using the Pytorch Lightning Trainer and NeMo Experiment Manager as always.For demonstration purposes, the number of epochs can be reduced. Reasonable results can be obtained in around 100 epochs"
   ]
  },
  {
   "cell_type": "code",
   "execution_count": 92,
   "id": "ee31dafc-b7df-43b5-9a69-52df53c5e71c",
   "metadata": {},
   "outputs": [
    {
     "name": "stderr",
     "output_type": "stream",
     "text": [
      "GPU available: True (cuda), used: True\n",
      "TPU available: False, using: 0 TPU cores\n",
      "HPU available: False, using: 0 HPUs\n"
     ]
    }
   ],
   "source": [
    "import torch\n",
    "import pytorch_lightning as ptl\n",
    "\n",
    "if torch.cuda.is_available():\n",
    "  accelerator = 'gpu'\n",
    "else:\n",
    "  accelerator = 'cpu'\n",
    "\n",
    "EPOCHS = 100\n",
    "\n",
    "trainer = ptl.Trainer(devices=1,\n",
    "                      accelerator=accelerator,\n",
    "                      max_epochs=EPOCHS,\n",
    "                      accumulate_grad_batches=1,\n",
    "                      enable_checkpointing=False,\n",
    "                      logger=False,\n",
    "                      log_every_n_steps=5,\n",
    "                      check_val_every_n_epoch=10)\n",
    "\n",
    "# Setup model with the trainer\n",
    "model.set_trainer(trainer)\n",
    "\n",
    "# finally, update the model's internal config\n",
    "model.cfg = model._cfg"
   ]
  },
  {
   "cell_type": "code",
   "execution_count": 93,
   "id": "56950f8b-990d-4838-a3c7-9153d471119d",
   "metadata": {},
   "outputs": [
    {
     "name": "stdout",
     "output_type": "stream",
     "text": [
      "[NeMo I 2024-10-07 10:18:52 exp_manager:396] Experiments will be logged at experiments/lang-vi/ASR-Model-Language-vi/2024-10-07_10-18-52\n",
      "[NeMo I 2024-10-07 10:18:52 exp_manager:856] TensorboardLogger has been set up\n"
     ]
    }
   ],
   "source": [
    "from nemo.utils import exp_manager\n",
    "\n",
    "# Environment variable generally used for multi-node multi-gpu training.\n",
    "# In notebook environments, this flag is unnecessary and can cause logs of multiple training runs to overwrite each other.\n",
    "os.environ.pop('NEMO_EXPM_VERSION', None)\n",
    "\n",
    "config = exp_manager.ExpManagerConfig(\n",
    "    exp_dir=f'experiments/lang-{LANGUAGE}/',\n",
    "    name=f\"ASR-Model-Language-{LANGUAGE}\",\n",
    "    checkpoint_callback_params=exp_manager.CallbackParams(\n",
    "        monitor=\"val_wer\",\n",
    "        mode=\"min\",\n",
    "        always_save_nemo=True,\n",
    "        save_best_model=True,\n",
    "    ),\n",
    ")\n",
    "\n",
    "config = OmegaConf.structured(config)\n",
    "\n",
    "logdir = exp_manager.exp_manager(trainer, config)"
   ]
  },
  {
   "cell_type": "code",
   "execution_count": 99,
   "id": "e13e2401-6b4d-41de-9030-d0c460414a10",
   "metadata": {},
   "outputs": [],
   "source": [
    "# %%time\n",
    "# trainer.fit(model)"
   ]
  },
  {
   "cell_type": "code",
   "execution_count": 95,
   "id": "f4eacc1e-756a-464e-a3f1-9b4ab03a7201",
   "metadata": {},
   "outputs": [
    {
     "name": "stdout",
     "output_type": "stream",
     "text": [
      "Model saved at path : /root/verb-workspace/Model-vi.nemo\n"
     ]
    }
   ],
   "source": [
    "save_path = f\"Model-{LANGUAGE}.nemo\"\n",
    "model.save_to(f\"{save_path}\")\n",
    "print(f\"Model saved at path : {os.getcwd() + os.path.sep + save_path}\")"
   ]
  },
  {
   "cell_type": "markdown",
   "id": "4ef8ac46",
   "metadata": {},
   "source": [
    "#### Testing"
   ]
  },
  {
   "cell_type": "markdown",
   "id": "80213295",
   "metadata": {},
   "source": [
    "Follow the same example and simply change paths to test on your own data the transcription."
   ]
  },
  {
   "cell_type": "code",
   "execution_count": 98,
   "id": "05096931-05ec-4d9d-a316-03978f8e83a9",
   "metadata": {},
   "outputs": [
    {
     "name": "stdout",
     "output_type": "stream",
     "text": [
      "[NeMo I 2024-10-07 10:43:53 mixins:172] Tokenizer SentencePieceTokenizer initialized with 93 tokens\n"
     ]
    },
    {
     "name": "stderr",
     "output_type": "stream",
     "text": [
      "[NeMo W 2024-10-07 10:43:53 modelPT:176] If you intend to do training or fine-tuning, please call the ModelPT.setup_training_data() method and provide a valid configuration file to setup the train data loader.\n",
      "    Train config : \n",
      "    manifest_filepath: datasets/vi/mozilla-foundation/common_voice_17_0/vi/train/train_mozilla-foundation_common_voice_17_0_manifest_processed.json,datasets/vi/mozilla-foundation/common_voice_17_0/vi/validation/validation_mozilla-foundation_common_voice_17_0_manifest_processed.json\n",
      "    sample_rate: 16000\n",
      "    batch_size: 32\n",
      "    trim_silence: true\n",
      "    max_duration: 16.7\n",
      "    shuffle: true\n",
      "    is_tarred: false\n",
      "    tarred_audio_filepaths: null\n",
      "    num_workers: 8\n",
      "    pin_memory: true\n",
      "    use_start_end_token: true\n",
      "    \n",
      "[NeMo W 2024-10-07 10:43:53 modelPT:183] If you intend to do validation, please call the ModelPT.setup_validation_data() or ModelPT.setup_multiple_validation_data() method and provide a valid configuration file to setup the validation data loader(s). \n",
      "    Validation config : \n",
      "    manifest_filepath: datasets/vi/mozilla-foundation/common_voice_17_0/vi/test/test_mozilla-foundation_common_voice_17_0_manifest_processed.json\n",
      "    sample_rate: 16000\n",
      "    batch_size: 8\n",
      "    shuffle: false\n",
      "    num_workers: 8\n",
      "    pin_memory: true\n",
      "    use_start_end_token: true\n",
      "    trim_silence: true\n",
      "    \n",
      "[NeMo W 2024-10-07 10:43:53 modelPT:189] Please call the ModelPT.setup_test_data() or ModelPT.setup_multiple_test_data() method and provide a valid configuration file to setup the test data loader(s).\n",
      "    Test config : \n",
      "    manifest_filepath: datasets/vi/mozilla-foundation/common_voice_17_0/vi/test/test_mozilla-foundation_common_voice_17_0_manifest_processed.json\n",
      "    sample_rate: 16000\n",
      "    batch_size: 8\n",
      "    shuffle: false\n",
      "    num_workers: 8\n",
      "    pin_memory: true\n",
      "    use_start_end_token: true\n",
      "    trim_silence: true\n",
      "    \n"
     ]
    },
    {
     "name": "stdout",
     "output_type": "stream",
     "text": [
      "[NeMo I 2024-10-07 10:43:53 features:305] PADDING: 16\n",
      "[NeMo I 2024-10-07 10:43:54 save_restore_connector:263] Model EncDecCTCModelBPE was successfully restored from /root/verb-workspace/Model-vi.nemo.\n",
      "Model loaded from /root/verb-workspace/Model-vi.nemo\n",
      "MP3 file converted to WAV: OOB Data WAV/FPTOpenSpeechData_Set001_V0.1_002082.wav\n"
     ]
    },
    {
     "name": "stderr",
     "output_type": "stream",
     "text": [
      "\n",
      "Transcribing: 100%|██████████| 1/1 [00:00<00:00, 13.95it/s]"
     ]
    },
    {
     "name": "stdout",
     "output_type": "stream",
     "text": [
      "Transcription: tó những làn hông nưới táo hang ấyđ\n"
     ]
    },
    {
     "name": "stderr",
     "output_type": "stream",
     "text": [
      "\n"
     ]
    }
   ],
   "source": [
    "import nemo.collections.asr as nemo_asr\n",
    "from pydub import AudioSegment\n",
    "import os\n",
    "\n",
    "# Function to convert MP3 to WAV format\n",
    "def convert_mp3_to_wav(mp3_file, wav_file):\n",
    "    audio = AudioSegment.from_mp3(mp3_file)\n",
    "    audio.export(wav_file, format=\"wav\")\n",
    "\n",
    "# Path to the saved NeMo model\n",
    "model_path = \"/root/verb-workspace/Model-vi.nemo\"\n",
    "\n",
    "# Load the saved ASR model\n",
    "asr_model = nemo_asr.models.ASRModel.restore_from(model_path)\n",
    "print(f\"Model loaded from {model_path}\")\n",
    "\n",
    "# Path to your MP3 file in the root directory\n",
    "mp3_file = 'OOB Data/FPTOpenSpeechData_Set002_V0.1_002082.mp3'  # Replace this with the actual file name of your MP3\n",
    "wav_file = 'OOB Data WAV/FPTOpenSpeechData_Set001_V0.1_002082.wav'\n",
    "\n",
    "# Convert MP3 to WAV\n",
    "convert_mp3_to_wav(mp3_file, wav_file)\n",
    "print(f\"MP3 file converted to WAV: {wav_file}\")\n",
    "\n",
    "# Transcribe the WAV file using the ASR model\n",
    "transcription = asr_model.transcribe([wav_file])\n",
    "\n",
    "# Output the transcription\n",
    "print(f\"Transcription: {transcription[0]}\")\n"
   ]
  },
  {
   "cell_type": "markdown",
   "id": "6914861d",
   "metadata": {},
   "source": [
    "#### Conclusion"
   ]
  },
  {
   "cell_type": "markdown",
   "id": "738beb9c",
   "metadata": {},
   "source": [
    "\n",
    "This tutorial discussed the generic steps to prepare a dataset in a different language, prepared two models for fine-tuning, and discussed some additional insights for fine-tuning CTC-based models.\n",
    "\n",
    "While the focus was on a small dataset for Vietnamese, nearly all of this information can be used for larger datasets and other scenarios where data is limited, or the model's size prevents fine-tuning the entire model."
   ]
  }
 ],
 "metadata": {
  "kernelspec": {
   "display_name": "Python 3 (ipykernel)",
   "language": "python",
   "name": "python3"
  },
  "language_info": {
   "codemirror_mode": {
    "name": "ipython",
    "version": 3
   },
   "file_extension": ".py",
   "mimetype": "text/x-python",
   "name": "python",
   "nbconvert_exporter": "python",
   "pygments_lexer": "ipython3",
   "version": "3.10.12"
  }
 },
 "nbformat": 4,
 "nbformat_minor": 5
}
